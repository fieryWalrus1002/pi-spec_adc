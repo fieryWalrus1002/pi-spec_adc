{
 "cells": [
  {
   "cell_type": "code",
   "execution_count": 1,
   "metadata": {},
   "outputs": [
    {
     "name": "stdout",
     "output_type": "stream",
     "text": [
      "waiting for serial... 0.0005012297630310058\n",
      "/dev/ttyACM1\n"
     ]
    }
   ],
   "source": [
    "from src.pispec import PiSpec\n",
    "from src.trace_utils import TraceParams\n",
    "import matplotlib.pyplot as plt\n",
    "import numpy as np\n",
    "import pandas as pd\n",
    "from io import StringIO\n",
    "import time\n",
    "from itertools import product\n",
    "import re\n",
    "import datetime\n",
    "\n",
    "\n",
    "# initialize the interface0 v\n",
    "pispec = PiSpec()\n",
    "print(pispec.tracecontroller.device)\n",
    "# TODO: this should be in config files\n",
    "\n",
    "\n",
    "# alternate the datapoints between two detectors? \n",
    "# Thats a tracecontroller things\n",
    "\n",
    "# the tracecontroller is broken\n",
    "\n",
    "# pispec.tracecontroller._debug()\n",
    "\n"
   ]
  },
  {
   "cell_type": "code",
   "execution_count": 2,
   "metadata": {},
   "outputs": [],
   "source": [
    "# pispec.actinic_test(int_values=[10, 50, 100, 200])"
   ]
  },
  {
   "cell_type": "code",
   "execution_count": 3,
   "metadata": {},
   "outputs": [],
   "source": [
    "# pispec.meas_led_test()"
   ]
  },
  {
   "cell_type": "code",
   "execution_count": 4,
   "metadata": {},
   "outputs": [],
   "source": [
    "# for i in range(0, 100):\n",
    "#     pispec.run_experiment(exp_name=\"node\", wavelengths=['830'], act_phase_vals=[0, 0, 0], btwn_trace_delay=1)\n",
    "#     print(i)"
   ]
  },
  {
   "cell_type": "markdown",
   "metadata": {},
   "source": [
    "## Experiment Test"
   ]
  },
  {
   "cell_type": "code",
   "execution_count": 5,
   "metadata": {},
   "outputs": [],
   "source": [
    "# exp_name = \"leaftest2\"\n",
    "# wavelengths = [\"830\"]\n",
    "# act_phase_vals = [0, 200, 0]\n",
    "\n",
    "# values = [\"zero_val\", \"val\", \"raw_diff\", \"V\", \"d_abs\"]\n",
    "\n",
    "# results = pispec.run_experiment(exp_name=exp_name, wavelengths=wavelengths, act_phase_vals=act_phase_vals)\n",
    "# print(results)\n",
    "\n",
    "\n",
    "\n",
    "# df = pispec.get_df()\n",
    "# print(df.head)\n",
    "\n",
    "# dest = pispec.save_df(df)\n",
    "# print(dest)"
   ]
  },
  {
   "attachments": {},
   "cell_type": "markdown",
   "metadata": {},
   "source": [
    "## artifact experiment\n",
    "\n",
    "Plant/ClearDetectorPath/ML/SP\n",
    "1. 1111\n",
    "2. 1101\n",
    "3. 1001"
   ]
  },
  {
   "cell_type": "code",
   "execution_count": 6,
   "metadata": {},
   "outputs": [
    {
     "name": "stdout",
     "output_type": "stream",
     "text": [
      "waiting for serial... 0.0005009212493896485\n",
      "0 1001\n",
      "1001-0 ['none'] [0, 200, 0]\n",
      "os.path.exists: /home/pi/projects/pi-spec-cli/export/221216_1001-0, True\n",
      "1 1001\n",
      "1001-1 ['none'] [0, 200, 0]\n",
      "os.path.exists: /home/pi/projects/pi-spec-cli/export/221216_1001-1, True\n",
      "2 1001\n",
      "1001-2 ['none'] [0, 200, 0]\n",
      "os.path.exists: /home/pi/projects/pi-spec-cli/export/221216_1001-2, True\n",
      "3 1001\n",
      "1001-3 ['none'] [0, 200, 0]\n",
      "os.path.exists: /home/pi/projects/pi-spec-cli/export/221216_1001-3, True\n",
      "4 1001\n",
      "1001-4 ['none'] [0, 200, 0]\n",
      "os.path.exists: /home/pi/projects/pi-spec-cli/export/221216_1001-4, True\n",
      "5 1001\n",
      "1001-5 ['none'] [0, 200, 0]\n",
      "os.path.exists: /home/pi/projects/pi-spec-cli/export/221216_1001-5, True\n",
      "6 1001\n",
      "1001-6 ['none'] [0, 200, 0]\n",
      "os.path.exists: /home/pi/projects/pi-spec-cli/export/221216_1001-6, True\n",
      "7 1001\n",
      "1001-7 ['none'] [0, 200, 0]\n",
      "os.path.exists: /home/pi/projects/pi-spec-cli/export/221216_1001-7, True\n",
      "8 1001\n",
      "1001-8 ['none'] [0, 200, 0]\n",
      "os.path.exists: /home/pi/projects/pi-spec-cli/export/221216_1001-8, True\n",
      "9 1001\n",
      "1001-9 ['none'] [0, 200, 0]\n",
      "os.path.exists: /home/pi/projects/pi-spec-cli/export/221216_1001-9, True\n",
      "0 1111\n",
      "1111-0 ['830'] [0, 200, 0]\n",
      "os.path.exists: /home/pi/projects/pi-spec-cli/export/221216_1111-0, True\n",
      "1 1111\n",
      "1111-1 ['830'] [0, 200, 0]\n",
      "os.path.exists: /home/pi/projects/pi-spec-cli/export/221216_1111-1, True\n",
      "2 1111\n",
      "1111-2 ['830'] [0, 200, 0]\n",
      "os.path.exists: /home/pi/projects/pi-spec-cli/export/221216_1111-2, True\n",
      "3 1111\n",
      "1111-3 ['830'] [0, 200, 0]\n",
      "os.path.exists: /home/pi/projects/pi-spec-cli/export/221216_1111-3, True\n",
      "4 1111\n",
      "1111-4 ['830'] [0, 200, 0]\n",
      "os.path.exists: /home/pi/projects/pi-spec-cli/export/221216_1111-4, True\n",
      "5 1111\n",
      "1111-5 ['830'] [0, 200, 0]\n",
      "os.path.exists: /home/pi/projects/pi-spec-cli/export/221216_1111-5, True\n",
      "6 1111\n",
      "1111-6 ['830'] [0, 200, 0]\n",
      "os.path.exists: /home/pi/projects/pi-spec-cli/export/221216_1111-6, True\n",
      "7 1111\n",
      "1111-7 ['830'] [0, 200, 0]\n",
      "os.path.exists: /home/pi/projects/pi-spec-cli/export/221216_1111-7, True\n",
      "8 1111\n",
      "1111-8 ['830'] [0, 200, 0]\n",
      "os.path.exists: /home/pi/projects/pi-spec-cli/export/221216_1111-8, True\n",
      "9 1111\n",
      "1111-9 ['830'] [0, 200, 0]\n",
      "os.path.exists: /home/pi/projects/pi-spec-cli/export/221216_1111-9, True\n",
      "0 1101\n",
      "1101-0 ['none'] [0, 200, 0]\n",
      "os.path.exists: /home/pi/projects/pi-spec-cli/export/221216_1101-0, True\n",
      "1 1101\n",
      "1101-1 ['none'] [0, 200, 0]\n",
      "os.path.exists: /home/pi/projects/pi-spec-cli/export/221216_1101-1, True\n",
      "2 1101\n",
      "1101-2 ['none'] [0, 200, 0]\n",
      "os.path.exists: /home/pi/projects/pi-spec-cli/export/221216_1101-2, True\n",
      "3 1101\n",
      "1101-3 ['none'] [0, 200, 0]\n",
      "os.path.exists: /home/pi/projects/pi-spec-cli/export/221216_1101-3, True\n",
      "4 1101\n",
      "1101-4 ['none'] [0, 200, 0]\n",
      "os.path.exists: /home/pi/projects/pi-spec-cli/export/221216_1101-4, True\n",
      "5 1101\n",
      "1101-5 ['none'] [0, 200, 0]\n",
      "os.path.exists: /home/pi/projects/pi-spec-cli/export/221216_1101-5, True\n",
      "6 1101\n",
      "1101-6 ['none'] [0, 200, 0]\n",
      "os.path.exists: /home/pi/projects/pi-spec-cli/export/221216_1101-6, True\n",
      "7 1101\n",
      "1101-7 ['none'] [0, 200, 0]\n",
      "os.path.exists: /home/pi/projects/pi-spec-cli/export/221216_1101-7, True\n",
      "8 1101\n",
      "1101-8 ['none'] [0, 200, 0]\n",
      "os.path.exists: /home/pi/projects/pi-spec-cli/export/221216_1101-8, True\n",
      "9 1101\n",
      "1101-9 ['none'] [0, 200, 0]\n",
      "os.path.exists: /home/pi/projects/pi-spec-cli/export/221216_1101-9, True\n"
     ]
    }
   ],
   "source": [
    "pispec = PiSpec()\n",
    "reps = 10\n",
    "# pispec = PiSpec()\n",
    "\n",
    "exp_params = {\"1001\": {\"exp_name\": \"1001\",\n",
    "                    \"wavelengths\":[\"none\"],\n",
    "                    \"act_phase_vals\": [0, 200, 0]},\n",
    "              \"1111\": {\"exp_name\": \"1111\",\n",
    "                        \"wavelengths\":[\"830\"],\n",
    "                        \"act_phase_vals\": [0, 200, 0]},\n",
    "              \"1101\": {\"exp_name\": \"1101\",\n",
    "                    \"wavelengths\":[\"none\"],\n",
    "                    \"act_phase_vals\": [0, 200, 0]},\n",
    "\n",
    "                }\n",
    "\n",
    "# 1111\n",
    "for design, rep in product( [key for key in exp_params.keys()], [i for i in range(reps)]):\n",
    "    print(rep, design)\n",
    "    exp_name = f'{exp_params[design][\"exp_name\"]}-{rep}'\n",
    "    wavelengths = exp_params[design][\"wavelengths\"]\n",
    "    act_phase_vals = exp_params[design][\"act_phase_vals\"]\n",
    "\n",
    "    print(exp_name, wavelengths, act_phase_vals)\n",
    "\n",
    "    results = pispec.run_experiment(\n",
    "        exp_name=exp_name, \n",
    "        wavelengths=wavelengths, \n",
    "        act_phase_vals=act_phase_vals)\n",
    "\n",
    "    df = pispec.get_df()\n",
    "    dest = pispec.save_df(df)\n",
    "    time.sleep(20)\n",
    "    if rep == reps - 1 and design == \"1001\":\n",
    "        blocked = input('Please unblock the detector. \\n')\n",
    "\n",
    "    \n",
    "\n"
   ]
  },
  {
   "cell_type": "code",
   "execution_count": null,
   "metadata": {},
   "outputs": [],
   "source": []
  },
  {
   "cell_type": "markdown",
   "metadata": {},
   "source": [
    "## Plot the data"
   ]
  },
  {
   "cell_type": "code",
   "execution_count": null,
   "metadata": {},
   "outputs": [],
   "source": [
    "\n",
    "pts = df.filter(regex = r'p_|z_|time_us', axis=1)[0:-1]\n",
    "pts.head()\n",
    "pts.tail()\n"
   ]
  },
  {
   "cell_type": "code",
   "execution_count": null,
   "metadata": {},
   "outputs": [],
   "source": [
    "subdf = df.loc[df[\"nm\"] == nm]\n",
    "subdf.plot(\n",
    "    x=\"time_ms\",\n",
    "    y=,\n",
    "    kind=\"scatter\",\n",
    "    c=\"cornflowerblue\",\n",
    "    title=f\"{nm}nm {col} vs time_ms\",\n",
    "    suptitle=f\"{title}\",\n",
    "    ylabel=f\"{col}\",\n",
    "    xlabel=\"time (ms)\",\n",
    "    s=10,\n",
    ")\n"
   ]
  },
  {
   "cell_type": "markdown",
   "metadata": {},
   "source": [
    "from 100-190, relative signal\n",
    "before saturation pulse\n",
    "delat transmission, change relative to the pre sat pulse transmission\n",
    "\n",
    "deltaT / T\n",
    "\n",
    "T = pre saturation pulse\n",
    "\n",
    "THEN \n",
    "\n",
    "dA = (- deltaT/T)/2.3\n"
   ]
  },
  {
   "cell_type": "code",
   "execution_count": null,
   "metadata": {},
   "outputs": [],
   "source": []
  },
  {
   "cell_type": "code",
   "execution_count": null,
   "metadata": {},
   "outputs": [],
   "source": [
    "# import re\n",
    "\n",
    "# resp = re.findall(pattern=\"v[0-9]\", string=df.param_string[0])\n",
    "# print(resp)\n",
    "\n",
    "# divide "
   ]
  },
  {
   "cell_type": "code",
   "execution_count": null,
   "metadata": {},
   "outputs": [],
   "source": [
    "# # row means of all the data points\n",
    "# df[\"val\"] = df[['aq_0', 'aq_1', 'aq_2', 'aq_3', 'aq_4']].mean(numeric_only = True, axis=1)\n",
    "\n",
    "# df[\"V\"] = df[\"val\"] / 6535\n"
   ]
  },
  {
   "cell_type": "code",
   "execution_count": null,
   "metadata": {},
   "outputs": [],
   "source": [
    "# plt.plot(df['time_us'], df['V'])\n",
    "# plt.ylim(0, 10)\n",
    "# plt.show()"
   ]
  },
  {
   "cell_type": "code",
   "execution_count": null,
   "metadata": {},
   "outputs": [],
   "source": [
    "# (x='time_us', y='val')\n",
    "# plt.show()\n",
    "\n",
    "# plt.plot(df['time_us'], df['aq_0'])\n",
    "# plt.show()"
   ]
  },
  {
   "cell_type": "code",
   "execution_count": null,
   "metadata": {},
   "outputs": [],
   "source": [
    "\n",
    "# pispec.tracecontroller.modify_actinic(intensity=500)\n",
    "# time.sleep(5)\n"
   ]
  },
  {
   "cell_type": "code",
   "execution_count": null,
   "metadata": {},
   "outputs": [],
   "source": []
  },
  {
   "cell_type": "code",
   "execution_count": null,
   "metadata": {},
   "outputs": [],
   "source": []
  }
 ],
 "metadata": {
  "kernelspec": {
   "display_name": "Python 3.9.2 ('pi-venv': venv)",
   "language": "python",
   "name": "python3"
  },
  "language_info": {
   "codemirror_mode": {
    "name": "ipython",
    "version": 3
   },
   "file_extension": ".py",
   "mimetype": "text/x-python",
   "name": "python",
   "nbconvert_exporter": "python",
   "pygments_lexer": "ipython3",
   "version": "3.9.2"
  },
  "vscode": {
   "interpreter": {
    "hash": "c91c631945b4ab69acf6d84149ec63c39dc65b85dab3fc6d5eebd73afec1b999"
   }
  }
 },
 "nbformat": 4,
 "nbformat_minor": 2
}
