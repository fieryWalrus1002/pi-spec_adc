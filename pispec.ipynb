{
 "cells": [
  {
   "cell_type": "code",
   "execution_count": 1,
   "metadata": {},
   "outputs": [],
   "source": [
    "from src.cli import PispecInterface, TraceParams\n",
    "from src.tracecontroller import TraceController, TraceControllerDebug\n",
    "import matplotlib.pyplot as plt\n",
    "import time"
   ]
  },
  {
   "cell_type": "code",
   "execution_count": 2,
   "metadata": {},
   "outputs": [
    {
     "name": "stdout",
     "output_type": "stream",
     "text": [
      "5824\n"
     ]
    }
   ],
   "source": [
    "tracecontroller = TraceController(baud_rate=115200)\n",
    "pispec = PispecInterface(tracecontroller=tracecontroller)"
   ]
  },
  {
   "cell_type": "code",
   "execution_count": 6,
   "metadata": {},
   "outputs": [],
   "source": [
    "def power_on():\n",
    "    print(pispec.tracecontroller.switch_pulser_power(True))\n",
    "\n",
    "def power_off():\n",
    "    print(pispec.tracecontroller.switch_pulser_power(False))"
   ]
  },
  {
   "cell_type": "code",
   "execution_count": 3,
   "metadata": {},
   "outputs": [
    {
     "name": "stdout",
     "output_type": "stream",
     "text": [
      "counter=2501, sat_pulse_begin=500, sat_pulse_end=600, pulse_length=75, pulse_interval=1000, meas_led_vis=2, meas_led_ir=0, num_points=2500, pulse_mode=1, act_int_phase=[0,0,0];\n",
      "\n"
     ]
    }
   ],
   "source": [
    "# experiment parameters\n",
    "params1 = TraceParams(num_points=2500,\n",
    "    pulse_interval = 1000,\n",
    "    meas_led_ir = 0,\n",
    "    meas_led_vis = 1,\n",
    "    pulse_length = 75,\n",
    "    sat_pulse_begin = 500,\n",
    "    sat_pulse_end = 600,\n",
    "    pulse_mode = 1,\n",
    "    trigger_delay = 0,\n",
    "    trace_note = \"debug\",\n",
    "    act_intensity = [0, 0, 0]\n",
    ")\n",
    "\n",
    "# set trace parameters\n",
    "resp = pispec.setup_trace(params1)\n",
    "\n",
    "\n",
    "\n",
    "print(pispec.tracecontroller.get_parameters())\n"
   ]
  },
  {
   "cell_type": "code",
   "execution_count": 7,
   "metadata": {},
   "outputs": [
    {
     "name": "stdout",
     "output_type": "stream",
     "text": [
      "power_on\n",
      "trace_length_us: 2687500, in seconds: 2.6875\n",
      "trace_time: 2.6875 s\n",
      "trace_begun to data received: 0:00:02.770595\n",
      "power_off\n",
      "trace_begun\n",
      "0,14, 29184, 29440, 29440, 29440, 29440\n",
      "1,1015, 29440, 29440, 29440, 29440, 29184\n",
      "2,2016, 29440, 29440, 29184, 29184, 29184\n",
      "3,3017, 29440, 29184, 29184, 29184, 29184\n",
      "4,4018, 29184, 29184, 29184, 29440, 29440\n",
      "5,5019, 29184, 29184, 29440, 29440, 29440\n",
      "6,6020, 29184, 29440, 29440, 29\n"
     ]
    }
   ],
   "source": [
    "power_on()\n",
    "\n",
    "df = pispec.run_trace()\n",
    "\n",
    "power_off()\n",
    "\n",
    "print(df[0:300])\n"
   ]
  },
  {
   "cell_type": "code",
   "execution_count": null,
   "metadata": {},
   "outputs": [],
   "source": []
  },
  {
   "cell_type": "code",
   "execution_count": 5,
   "metadata": {},
   "outputs": [],
   "source": [
    "\n",
    "pispec.tracecontroller.modify_actinic(intensity=500)\n",
    "time.sleep(5)\n"
   ]
  },
  {
   "cell_type": "code",
   "execution_count": null,
   "metadata": {},
   "outputs": [],
   "source": []
  },
  {
   "cell_type": "code",
   "execution_count": null,
   "metadata": {},
   "outputs": [],
   "source": []
  }
 ],
 "metadata": {
  "kernelspec": {
   "display_name": "Python 3.9.2 ('pi-venv': venv)",
   "language": "python",
   "name": "python3"
  },
  "language_info": {
   "codemirror_mode": {
    "name": "ipython",
    "version": 3
   },
   "file_extension": ".py",
   "mimetype": "text/x-python",
   "name": "python",
   "nbconvert_exporter": "python",
   "pygments_lexer": "ipython3",
   "version": "3.9.2"
  },
  "vscode": {
   "interpreter": {
    "hash": "c91c631945b4ab69acf6d84149ec63c39dc65b85dab3fc6d5eebd73afec1b999"
   }
  }
 },
 "nbformat": 4,
 "nbformat_minor": 2
}
