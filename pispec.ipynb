{
    "cells": [
        {
            "cell_type": "code",
            "execution_count": 4,
            "metadata": {},
            "outputs": [
                {
                    "name": "stdout",
                    "output_type": "stream",
                    "text": [
                        "waiting for serial... 0.0005011510848999023\n",
                        "/dev/ttyACM1\n"
                    ]
                },
                {
                    "data": {
                        "text/plain": [
                            "'DEBUG_MODE:1;\\r\\n'"
                        ]
                    },
                    "execution_count": 4,
                    "metadata": {},
                    "output_type": "execute_result"
                }
            ],
            "source": [
                "from src.pispec import PiSpec\n",
                "from src.trace_utils import TraceParams\n",
                "import matplotlib.pyplot as plt\n",
                "\n",
                "# initialize the interface0 v\n",
                "pispec = PiSpec()\n",
                "print(pispec.tracecontroller.device)\n",
                "\n",
                "# alternate the datapoints between two detectors? \n",
                "# Thats a tracecontroller things\n",
                "\n",
                "# the tracecontroller is broken\n",
                "\n",
                "pispec.tracecontroller._debug()\n"
            ]
        },
        {
            "cell_type": "code",
            "execution_count": 5,
            "metadata": {},
            "outputs": [
                {
                    "name": "stdout",
                    "output_type": "stream",
                    "text": [
                        "0\n",
                        "\n",
                        "0\n"
                    ]
                }
            ],
            "source": [
                "print(pispec.set_power_state(0))\n",
                "print(pispec.set_actinic_intensity(0))\n",
                "print(pispec.set_actinic_state(0))"
            ]
        },
        {
            "cell_type": "markdown",
            "metadata": {},
            "source": [
                "### Actinic Test"
            ]
        },
        {
            "cell_type": "code",
            "execution_count": 3,
            "metadata": {},
            "outputs": [
                {
                    "data": {
                        "text/plain": [
                            "0"
                        ]
                    },
                    "execution_count": 3,
                    "metadata": {},
                    "output_type": "execute_result"
                }
            ],
            "source": [
                "test = [x*20 for x in range(4, 7)]\n",
                "\n",
                "pispec.set_power_state(1)\n",
                "\n",
                "for intensity in test:\n",
                "\n",
                "    pispec.set_actinic_intensity(intensity)\n",
                "    # pispec.set_power_state(1)\n",
                "    pispec.set_actinic_state(1)\n",
                "\n",
                "    pispec.wait(1)\n",
                "\n",
                "    pispec.set_actinic_state(0)\n",
                "    pispec.set_actinic_intensity(0)\n",
                "    # pispec.set_power_state(0)\n",
                "\n",
                "    pispec.wait(1)\n",
                "\n",
                "pispec.set_power_state(0)\n"
            ]
        },
        {
            "cell_type": "markdown",
            "metadata": {},
            "source": [
                "LED Pin Test\n"
            ]
        },
        {
            "cell_type": "code",
            "execution_count": 4,
            "metadata": {},
            "outputs": [],
            "source": [
                "# pispec.tracecontroller._debug()\n",
                "for i in range(2, 9):\n",
                "    pispec.test_meas_leds(pin_num=i)\n",
                "    pispec.wait(2)\n"
            ]
        },
        {
            "cell_type": "markdown",
            "metadata": {},
            "source": [
                "### Experiment Test"
            ]
        },
        {
            "cell_type": "code",
            "execution_count": 6,
            "metadata": {},
            "outputs": [
                {
                    "name": "stdout",
                    "output_type": "stream",
                    "text": [
                        "PiSpec connected.\n",
                        "creating parameters\n",
                        "init experiment\n",
                        "dest_path exists: /home/pi/projects/pi-spec-cli/export/220930_p700_test\n",
                        "DataHandler created for these traces\n",
                        "setting power state\n",
                        "dest_path: /home/pi/projects/pi-spec-cli/export/220930_p700_test\n",
                        "begin trace run\n",
                        "trace 0, params: r0;v6;n2000;z1;i500;p75;e30;w0;x140;y0;\n",
                        "tracecontroller response: \n",
                        "run trace\n",
                        "trace complete\n",
                        "trace 1, params: r0;v7;n2000;z1;i500;p75;e30;w0;x140;y0;\n",
                        "tracecontroller response: \n",
                        "run trace\n",
                        "trace complete\n"
                    ]
                },
                {
                    "data": {
                        "text/plain": [
                            "'Experiment concluded, trace data is ready for processing.'"
                        ]
                    },
                    "execution_count": 6,
                    "metadata": {},
                    "output_type": "execute_result"
                }
            ],
            "source": [
                "# pispec = PiSpec()\n",
                "\n",
                "print(\"PiSpec connected.\")\n",
                "#experiment variables\n",
                "exp_name = \"p700_test\"\n",
                "\n",
                "print(\"creating parameters\")\n",
                "trace_params = [TraceParams(num_points=2000,\n",
                "    pulse_interval = 500,\n",
                "    meas_led_ir = 0,\n",
                "    meas_led_vis = x,\n",
                "    pulse_length = 75,\n",
                "    sat_pulse_begin = 800,\n",
                "    sat_pulse_end = 1200,\n",
                "    pulse_mode = 1,\n",
                "    trigger_delay = 30,\n",
                "    trace_note = exp_name,\n",
                "    act_intensity = [0, 140, 0]\n",
                ") for x in range(6, 8)]\n",
                "\n",
                "# begin experiment\n",
                "print(\"init experiment\")\n",
                "dest_path = pispec.init_experiment(exp_name=exp_name)\n",
                "print(f\"dest_path: {dest_path}\")\n",
                "print(\"begin trace run\")\n",
                "for i, param in enumerate(trace_params):\n",
                "\n",
                "    # setup the trace paramaters\n",
                "    print(f\"trace {i}, params: {param.param_string}\")\n",
                "    print(f\"tracecontroller response: {pispec.setup_trace(param)}\")\n",
                "    pispec.wait(1)\n",
                "    print(\"run trace\")\n",
                "    status = pispec.run_trace(timeout_s=3)\n",
                "    pispec.wait(1)\n",
                "    print(\"trace complete\")\n",
                "\n",
                "pispec.conclude_experiment()"
            ]
        },
        {
            "cell_type": "code",
            "execution_count": null,
            "metadata": {},
            "outputs": [],
            "source": [
                "pispec = PiSpec()\n",
                "\n",
                "#experiment variables\n",
                "exp_name = \"testBadger\"\n",
                "\n",
                "trace_params = [TraceParams(num_points=1000,\n",
                "    pulse_interval = 1000,\n",
                "    meas_led_ir = 0,\n",
                "    meas_led_vis = x,\n",
                "    pulse_length = 60,\n",
                "    sat_pulse_begin = 400,\n",
                "    sat_pulse_end = 600,\n",
                "    pulse_mode = 1,\n",
                "    trigger_delay = 0,\n",
                "    trace_note = \"led_test\",\n",
                "    act_intensity = [0, 0, 0]\n",
                ") for x in range(1, 9)]\n",
                "\n",
                "# begin experiment\n",
                "pispec.init_experiment(exp_name=exp_name)\n",
                "\n",
                "\n",
                "for param in trace_params:\n",
                "    print(f\"LED_NUM: {param.meas_led_vis}\")\n",
                "    pispec.setup_trace(param)\n",
                "    status = pispec.run_trace(timeout_s=1.0)\n",
                "    pispec.wait(2)\n",
                "\n",
                "\n",
                "pispec.conclude_experiment()\n"
            ]
        },
        {
            "cell_type": "code",
            "execution_count": 9,
            "metadata": {},
            "outputs": [],
            "source": [
                "dfs = pispec.get_data()\n",
                "# dfs = pispec.get_data()\n",
                "# for buf in pispec.datahandler.trace_buffers:\n",
                "    # print(buf)\n",
                "df = dfs[0]"
            ]
        },
        {
            "cell_type": "code",
            "execution_count": 10,
            "metadata": {},
            "outputs": [
                {
                    "name": "stdout",
                    "output_type": "stream",
                    "text": [
                        "Empty DataFrame\n",
                        "Columns: [trace_num, rep, trace_begun, trace_end, param_string, note, pt_num, time_us, aq_0, aq_1, aq_2, aq_3, aq_4, aq_5, aq_6, aq_7, aq_8]\n",
                        "Index: []\n"
                    ]
                }
            ],
            "source": [
                "print(df.head())"
            ]
        },
        {
            "cell_type": "code",
            "execution_count": null,
            "metadata": {},
            "outputs": [],
            "source": [
                "\n",
                "\n",
                "\n",
                "# row means of all the data points\n",
                "df[\"val\"] = df[['aq_0', 'aq_1', 'aq_2', 'aq_3', 'aq_4']].mean(numeric_only = True, axis=1)\n",
                "\n",
                "df[\"V\"] = df[\"val\"] / 6535\n",
                "\n",
                "plt.plot(df['time_us'], df['V'])\n",
                "plt.ylim(0, 5)\n",
                "plt.show()"
            ]
        },
        {
            "cell_type": "code",
            "execution_count": null,
            "metadata": {},
            "outputs": [],
            "source": [
                "\n"
            ]
        },
        {
            "cell_type": "code",
            "execution_count": null,
            "metadata": {},
            "outputs": [],
            "source": [
                "# row means of all the data points\n",
                "df[\"val\"] = df[['aq_0', 'aq_1', 'aq_2', 'aq_3', 'aq_4']].mean(numeric_only = True, axis=1)\n",
                "\n",
                "df[\"V\"] = df[\"val\"] / 6535\n",
                "\n",
                "plt.plot(df['time_us'], df['V'])\n",
                "plt.ylim(0, 5)\n",
                "plt.show()"
            ]
        },
        {
            "cell_type": "code",
            "execution_count": null,
            "metadata": {},
            "outputs": [],
            "source": [
                "plt.plot(df['time_us'], df['V'])\n",
                "plt.ylim(0, 10)\n",
                "plt.show()"
            ]
        },
        {
            "cell_type": "code",
            "execution_count": null,
            "metadata": {},
            "outputs": [],
            "source": [
                "# (x='time_us', y='val')\n",
                "# plt.show()\n",
                "\n",
                "# plt.plot(df['time_us'], df['aq_0'])\n",
                "# plt.show()"
            ]
        },
        {
            "cell_type": "code",
            "execution_count": null,
            "metadata": {},
            "outputs": [],
            "source": [
                "\n",
                "# pispec.tracecontroller.modify_actinic(intensity=500)\n",
                "# time.sleep(5)\n"
            ]
        },
        {
            "cell_type": "code",
            "execution_count": null,
            "metadata": {},
            "outputs": [],
            "source": []
        },
        {
            "cell_type": "code",
            "execution_count": null,
            "metadata": {},
            "outputs": [],
            "source": []
        }
    ],
    "metadata": {
        "kernelspec": {
            "display_name": "Python 3.9.2 ('pi-venv': venv)",
            "language": "python",
            "name": "python3"
        },
        "language_info": {
            "codemirror_mode": {
                "name": "ipython",
                "version": 3
            },
            "file_extension": ".py",
            "mimetype": "text/x-python",
            "name": "python",
            "nbconvert_exporter": "python",
            "pygments_lexer": "ipython3",
            "version": "3.9.2"
        },
        "vscode": {
            "interpreter": {
                "hash": "c91c631945b4ab69acf6d84149ec63c39dc65b85dab3fc6d5eebd73afec1b999"
            }
        }
    },
    "nbformat": 4,
    "nbformat_minor": 2
}
