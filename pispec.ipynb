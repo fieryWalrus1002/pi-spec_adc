{
 "cells": [
  {
   "cell_type": "code",
   "execution_count": 8,
   "metadata": {},
   "outputs": [
    {
     "name": "stdout",
     "output_type": "stream",
     "text": [
      "/dev/ttyACM0\n"
     ]
    },
    {
     "data": {
      "text/plain": [
       "'a100;'"
      ]
     },
     "execution_count": 8,
     "metadata": {},
     "output_type": "execute_result"
    }
   ],
   "source": [
    "from src.pispec import PiSpec\n",
    "from src.trace_utils import TraceParams\n",
    "import matplotlib.pyplot as plt\n",
    "from src.tracecontroller import TraceController\n",
    "\n",
    "# initialize the interface\n",
    "pispec = PiSpec()\n",
    "print(pispec.tracecontroller.device)\n",
    "# alternate the datapoints between two detectors? \n",
    "# Thats a tracecontroller things\n",
    "pispec.set_actinic(100)"
   ]
  },
  {
   "cell_type": "code",
   "execution_count": null,
   "metadata": {},
   "outputs": [],
   "source": [
    "for x in (0, 255, 0):\n",
    "    print(pispec.set_actinic(x))\n",
    "    pispec.wait(1)\n"
   ]
  },
  {
   "cell_type": "code",
   "execution_count": null,
   "metadata": {},
   "outputs": [],
   "source": []
  },
  {
   "cell_type": "code",
   "execution_count": null,
   "metadata": {},
   "outputs": [],
   "source": [
    "\n",
    "\n",
    "\n",
    "\n"
   ]
  },
  {
   "cell_type": "code",
   "execution_count": null,
   "metadata": {},
   "outputs": [],
   "source": []
  },
  {
   "cell_type": "code",
   "execution_count": null,
   "metadata": {},
   "outputs": [],
   "source": [
    "\n",
    "\n"
   ]
  },
  {
   "cell_type": "code",
   "execution_count": null,
   "metadata": {},
   "outputs": [],
   "source": [
    "# # pispec.reconnect()\n",
    "# power(\"off\")\n",
    "resp = pispec.power(\"on\")\n",
    "print(resp)\n",
    "\n",
    "resp = pispec.power(\"off\")\n",
    "print(resp)"
   ]
  },
  {
   "cell_type": "code",
   "execution_count": null,
   "metadata": {},
   "outputs": [],
   "source": [
    "for i in range(0, 255):\n",
    "    print(pispec.set_actinic(i))\n",
    "    pispec.wait(0.25)\n"
   ]
  },
  {
   "cell_type": "code",
   "execution_count": null,
   "metadata": {},
   "outputs": [],
   "source": [
    "pispec.set_actinic(0)"
   ]
  },
  {
   "cell_type": "code",
   "execution_count": null,
   "metadata": {},
   "outputs": [],
   "source": [
    "\n"
   ]
  },
  {
   "cell_type": "code",
   "execution_count": 22,
   "metadata": {},
   "outputs": [
    {
     "ename": "KeyboardInterrupt",
     "evalue": "",
     "output_type": "error",
     "traceback": [
      "\u001b[0;31m---------------------------------------------------------------------------\u001b[0m",
      "\u001b[0;31mKeyboardInterrupt\u001b[0m                         Traceback (most recent call last)",
      "Cell \u001b[0;32mIn [22], line 19\u001b[0m\n\u001b[1;32m     16\u001b[0m \u001b[38;5;28;01mfor\u001b[39;00m intensity \u001b[38;5;129;01min\u001b[39;00m int_list:\n\u001b[1;32m     17\u001b[0m     \u001b[38;5;66;03m# print(intensity)\u001b[39;00m\n\u001b[1;32m     18\u001b[0m     pispec\u001b[38;5;241m.\u001b[39mset_actinic(intensity)\n\u001b[0;32m---> 19\u001b[0m     \u001b[43mpispec\u001b[49m\u001b[38;5;241;43m.\u001b[39;49m\u001b[43mwait\u001b[49m\u001b[43m(\u001b[49m\u001b[38;5;241;43m1\u001b[39;49m\u001b[43m)\u001b[49m\n",
      "File \u001b[0;32m~/projects/pi-spec-cli/src/pispec.py:35\u001b[0m, in \u001b[0;36mPiSpec.wait\u001b[0;34m(self, time_s)\u001b[0m\n\u001b[1;32m     34\u001b[0m \u001b[39mdef\u001b[39;00m \u001b[39mwait\u001b[39m(\u001b[39mself\u001b[39m, time_s: \u001b[39mint\u001b[39m):\n\u001b[0;32m---> 35\u001b[0m     time\u001b[39m.\u001b[39;49msleep(time_s)\n",
      "\u001b[0;31mKeyboardInterrupt\u001b[0m: "
     ]
    }
   ],
   "source": [
    "\n",
    "\n",
    "def act_pulse(pulse_length:float, intensity: int):\n",
    "    resp1 = pispec.tracecontroller.set_parameters(intensity)\n",
    "    pispec.wait(pulse_length)\n",
    "    resp2 = pispec.tracecontroller.set_parameters(intensity)\n",
    "    # print(f\"{resp1}, {resp2}\")\n",
    "\n",
    "# for i in range(0, 255):\n",
    "#     act_pulse()\n",
    "\n",
    "int_list = [x*10 for x in range(0, 25)] \n",
    "# int_list = [255, 100, 50, 100, 255]\n",
    "\n",
    "for i in range(0, 255):\n",
    "    int_list.reverse()\n",
    "\n",
    "    for intensity in int_list:\n",
    "        # print(intensity)\n",
    "        pispec.set_actinic(intensity)\n",
    "        pispec.wait(1)\n",
    "        \n",
    "    \n",
    "\n",
    "        \n"
   ]
  },
  {
   "cell_type": "code",
   "execution_count": null,
   "metadata": {},
   "outputs": [],
   "source": []
  },
  {
   "cell_type": "code",
   "execution_count": null,
   "metadata": {},
   "outputs": [],
   "source": []
  },
  {
   "cell_type": "markdown",
   "metadata": {},
   "source": []
  },
  {
   "cell_type": "code",
   "execution_count": null,
   "metadata": {},
   "outputs": [],
   "source": []
  },
  {
   "cell_type": "code",
   "execution_count": null,
   "metadata": {},
   "outputs": [],
   "source": [
    "pispec = PiSpec()\n",
    "pispec.power(\"on\")\n",
    "#experiment variables\n",
    "exp_name = \"testBadger\"\n",
    "trace_params = [TraceParams(num_points=1000,\n",
    "    pulse_interval = 1000,\n",
    "    meas_led_ir = 0,\n",
    "    meas_led_vis = 2,\n",
    "    pulse_length = 60,\n",
    "    sat_pulse_begin = 500,\n",
    "    sat_pulse_end = 600,\n",
    "    pulse_mode = 1,\n",
    "    trigger_delay = 0,\n",
    "    trace_note = \"debug\",\n",
    "    act_intensity = [0, 6000, 0]\n",
    ") for x in range(1, 7)]\n",
    "\n",
    "# begin experiment\n",
    "pispec.init_experiment(exp_name=exp_name)\n",
    "\n",
    "for param in trace_params:\n",
    "    \n",
    "    # setup the trace paramaters\n",
    "    pispec.setup_trace(param)\n",
    "\n",
    "    # see if the trace parameters are in place\n",
    "    # print(f\"The current trace parameters are: {pispec.tracecontroller.get_parameters()}\")\n",
    "\n",
    "    # run trace\n",
    "    print(f\"LED: {param.meas_led_vis}\")\n",
    "    status = pispec.run_trace(timeout=1000)\n",
    "    # print(f\"pispec.run_trace completed with status: {status}\")\n",
    "\n",
    "    # wait between traces\n",
    "    pispec.wait(2)\n",
    "\n",
    "print(f\"Experiment '{exp_name}' concluded, trace data is ready for processing.\")\n"
   ]
  },
  {
   "cell_type": "code",
   "execution_count": null,
   "metadata": {},
   "outputs": [],
   "source": [
    "# dfs = pispec.get_data()\n",
    "dfs = pispec.get_data()\n",
    "df = dfs[0]\n"
   ]
  },
  {
   "cell_type": "code",
   "execution_count": null,
   "metadata": {},
   "outputs": [],
   "source": [
    "print(df.head())\n"
   ]
  },
  {
   "cell_type": "code",
   "execution_count": null,
   "metadata": {},
   "outputs": [],
   "source": [
    "# row means of all the data points\n",
    "df[\"val\"] = df[['aq_0', 'aq_1', 'aq_2', 'aq_3', 'aq_4']].mean(numeric_only = True, axis=1)\n",
    "\n",
    "df[\"V\"] = df[\"val\"] / 6535\n",
    "\n",
    "plt.plot(df['time_us'], df['V'])\n",
    "plt.ylim(00.3, 0.61)\n",
    "plt.show()"
   ]
  },
  {
   "cell_type": "code",
   "execution_count": null,
   "metadata": {},
   "outputs": [],
   "source": [
    "plt.plot(df['time_us'], df['V'])\n",
    "plt.ylim(0, 10)\n",
    "plt.show()"
   ]
  },
  {
   "cell_type": "code",
   "execution_count": null,
   "metadata": {},
   "outputs": [],
   "source": [
    "(x='time_us', y='val')\n",
    "plt.show()\n",
    "\n",
    "# plt.plot(df['time_us'], df['aq_0'])\n",
    "# plt.show()"
   ]
  },
  {
   "cell_type": "code",
   "execution_count": null,
   "metadata": {},
   "outputs": [],
   "source": [
    "\n",
    "# pispec.tracecontroller.modify_actinic(intensity=500)\n",
    "# time.sleep(5)\n"
   ]
  },
  {
   "cell_type": "code",
   "execution_count": null,
   "metadata": {},
   "outputs": [],
   "source": []
  },
  {
   "cell_type": "code",
   "execution_count": null,
   "metadata": {},
   "outputs": [],
   "source": []
  }
 ],
 "metadata": {
  "kernelspec": {
   "display_name": "Python 3.9.2 ('spec': venv)",
   "language": "python",
   "name": "python3"
  },
  "language_info": {
   "codemirror_mode": {
    "name": "ipython",
    "version": 3
   },
   "file_extension": ".py",
   "mimetype": "text/x-python",
   "name": "python",
   "nbconvert_exporter": "python",
   "pygments_lexer": "ipython3",
   "version": "3.9.2"
  },
  "vscode": {
   "interpreter": {
    "hash": "87d0fe9d7c47db3bafa173cc37aaac23dfc012f10a381d2f199b85b96b19842d"
   }
  }
 },
 "nbformat": 4,
 "nbformat_minor": 2
}
