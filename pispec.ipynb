{
 "cells": [
  {
   "cell_type": "code",
   "execution_count": 1,
   "metadata": {},
   "outputs": [
    {
     "ename": "ModuleNotFoundError",
     "evalue": "No module named 'pydrive'",
     "output_type": "error",
     "traceback": [
      "\u001b[0;31m---------------------------------------------------------------------------\u001b[0m",
      "\u001b[0;31mModuleNotFoundError\u001b[0m                       Traceback (most recent call last)",
      "Cell \u001b[0;32mIn [1], line 1\u001b[0m\n\u001b[0;32m----> 1\u001b[0m \u001b[39mfrom\u001b[39;00m \u001b[39msrc\u001b[39;00m\u001b[39m.\u001b[39;00m\u001b[39mpispec\u001b[39;00m \u001b[39mimport\u001b[39;00m PiSpec\n\u001b[1;32m      2\u001b[0m \u001b[39mfrom\u001b[39;00m \u001b[39msrc\u001b[39;00m\u001b[39m.\u001b[39;00m\u001b[39mtrace_utils\u001b[39;00m \u001b[39mimport\u001b[39;00m TraceParams\n\u001b[1;32m      3\u001b[0m \u001b[39mimport\u001b[39;00m \u001b[39mmatplotlib\u001b[39;00m\u001b[39m.\u001b[39;00m\u001b[39mpyplot\u001b[39;00m \u001b[39mas\u001b[39;00m \u001b[39mplt\u001b[39;00m\n",
      "File \u001b[0;32m~/projects/pi-spec-cli/src/pispec.py:10\u001b[0m\n\u001b[1;32m      8\u001b[0m \u001b[39mfrom\u001b[39;00m \u001b[39mserial\u001b[39;00m\u001b[39m.\u001b[39;00m\u001b[39mserialutil\u001b[39;00m \u001b[39mimport\u001b[39;00m PARITY_NONE, STOPBITS_ONE\n\u001b[1;32m      9\u001b[0m \u001b[39mfrom\u001b[39;00m \u001b[39mdataclasses\u001b[39;00m \u001b[39mimport\u001b[39;00m dataclass\n\u001b[0;32m---> 10\u001b[0m \u001b[39mfrom\u001b[39;00m \u001b[39msrc\u001b[39;00m\u001b[39m.\u001b[39;00m\u001b[39mdatahandler\u001b[39;00m \u001b[39mimport\u001b[39;00m DataHandler\n\u001b[1;32m     11\u001b[0m \u001b[39mfrom\u001b[39;00m \u001b[39msrc\u001b[39;00m\u001b[39m.\u001b[39;00m\u001b[39mtrace_utils\u001b[39;00m \u001b[39mimport\u001b[39;00m TraceParams\n\u001b[1;32m     12\u001b[0m \u001b[39mfrom\u001b[39;00m \u001b[39msrc\u001b[39;00m\u001b[39m.\u001b[39;00m\u001b[39mtracecontroller\u001b[39;00m \u001b[39mimport\u001b[39;00m TraceController\n",
      "File \u001b[0;32m~/projects/pi-spec-cli/src/datahandler.py:10\u001b[0m\n\u001b[1;32m      8\u001b[0m \u001b[39mimport\u001b[39;00m \u001b[39mre\u001b[39;00m\n\u001b[1;32m      9\u001b[0m \u001b[39mimport\u001b[39;00m \u001b[39mnumpy\u001b[39;00m \u001b[39mas\u001b[39;00m \u001b[39mnp\u001b[39;00m\n\u001b[0;32m---> 10\u001b[0m \u001b[39mfrom\u001b[39;00m \u001b[39msrc\u001b[39;00m\u001b[39m.\u001b[39;00m\u001b[39mdrive\u001b[39;00m \u001b[39mimport\u001b[39;00m DataUploader\n\u001b[1;32m     11\u001b[0m \u001b[39mfrom\u001b[39;00m \u001b[39mdatetime\u001b[39;00m \u001b[39mimport\u001b[39;00m datetime\n\u001b[1;32m     14\u001b[0m \u001b[39mclass\u001b[39;00m \u001b[39mDataHandler\u001b[39;00m:\n",
      "File \u001b[0;32m~/projects/pi-spec-cli/src/drive.py:1\u001b[0m\n\u001b[0;32m----> 1\u001b[0m \u001b[39mfrom\u001b[39;00m \u001b[39mpydrive\u001b[39;00m\u001b[39m.\u001b[39;00m\u001b[39mauth\u001b[39;00m \u001b[39mimport\u001b[39;00m GoogleAuth\n\u001b[1;32m      2\u001b[0m \u001b[39mfrom\u001b[39;00m \u001b[39mpydrive\u001b[39;00m\u001b[39m.\u001b[39;00m\u001b[39mdrive\u001b[39;00m \u001b[39mimport\u001b[39;00m GoogleDrive\n\u001b[1;32m      5\u001b[0m \u001b[39mclass\u001b[39;00m \u001b[39mDataUploader\u001b[39;00m:\n",
      "\u001b[0;31mModuleNotFoundError\u001b[0m: No module named 'pydrive'"
     ]
    }
   ],
   "source": [
    "from src.pispec import PiSpec\n",
    "from src.trace_utils import TraceParams\n",
    "import matplotlib.pyplot as plt\n",
    "import numpy as np\n",
    "import pandas as pd\n",
    "from io import StringIO\n",
    "import time\n",
    "from itertools import product\n",
    "import re\n",
    "import datetime\n",
    "\n",
    "\n",
    "# initialize the interface0 v\n",
    "pispec = PiSpec()\n",
    "print(pispec.tracecontroller.device)\n",
    "# TODO: this should be in config files\n",
    "\n",
    "\n",
    "# alternate the datapoints between two detectors? \n",
    "# Thats a tracecontroller things\n",
    "\n",
    "# the tracecontroller is broken\n",
    "\n",
    "# pispec.tracecontroller._debug()\n",
    "\n"
   ]
  },
  {
   "cell_type": "code",
   "execution_count": null,
   "metadata": {},
   "outputs": [],
   "source": []
  },
  {
   "cell_type": "code",
   "execution_count": null,
   "metadata": {},
   "outputs": [],
   "source": [
    "# for i in range(0, 100):\n",
    "#     pispec.run_experiment(exp_name=\"node\", wavelengths=['830'], act_phase_vals=[0, 0, 0], btwn_trace_delay=1)\n",
    "#     print(i)"
   ]
  },
  {
   "cell_type": "markdown",
   "metadata": {},
   "source": [
    "## Experiment Test"
   ]
  },
  {
   "cell_type": "code",
   "execution_count": null,
   "metadata": {},
   "outputs": [],
   "source": [
    "exp_name = \"filter-776&792\"\n",
    "wavelengths = [\"520\",\"830\", \"940\"]\n",
    "act_phase_vals = [0, 200, 0]\n",
    "\n",
    "values = [\"zero_val\", \"val\", \"raw_diff\", \"V\", \"d_abs\"]\n",
    "\n",
    "pispec.run_experiment(exp_name=exp_name, wavelengths=wavelengths, act_phase_vals=act_phase_vals)\n"
   ]
  },
  {
   "cell_type": "markdown",
   "metadata": {},
   "source": [
    "## peek at dataframe"
   ]
  },
  {
   "cell_type": "code",
   "execution_count": null,
   "metadata": {},
   "outputs": [],
   "source": []
  },
  {
   "cell_type": "code",
   "execution_count": null,
   "metadata": {},
   "outputs": [],
   "source": [
    "\n",
    "df = pispec.get_df()\n",
    "\n",
    "for bug in pispec.datahandler.debug_list:\n",
    "    print(bug)\n",
    "# export/221014_4layerKimwipe/221014_1410_4layerKimwipe.csv"
   ]
  },
  {
   "cell_type": "code",
   "execution_count": null,
   "metadata": {},
   "outputs": [],
   "source": [
    "\n",
    "pispec.save_df(df)\n",
    "# pispec.datahandler.upload(df)"
   ]
  },
  {
   "cell_type": "code",
   "execution_count": null,
   "metadata": {},
   "outputs": [],
   "source": []
  },
  {
   "cell_type": "code",
   "execution_count": null,
   "metadata": {},
   "outputs": [],
   "source": []
  },
  {
   "cell_type": "code",
   "execution_count": null,
   "metadata": {},
   "outputs": [],
   "source": []
  },
  {
   "cell_type": "markdown",
   "metadata": {},
   "source": [
    "## Plot the data"
   ]
  },
  {
   "cell_type": "code",
   "execution_count": null,
   "metadata": {},
   "outputs": [],
   "source": [
    "for c in product(wavelengths,values):\n",
    "# for c in product([\"520\", \"830\", \"940\"], [\"V\", \"val\", \"raw_diff\", \"d_abs\"]):\n",
    "    nm, col = c\n",
    "    pispec.plot_df(df=df, nm=nm, col=col, upload=True)\n"
   ]
  },
  {
   "cell_type": "code",
   "execution_count": null,
   "metadata": {},
   "outputs": [],
   "source": [
    "for nm in [\"520\", \"830\", \"940\"]:\n",
    "    aq_df = df.loc[df[\"nm\"] == nm][['time_ms', 'paq_0', 'paq_1', 'paq_2','aq_0', 'aq_1', 'aq_2', 'aq_3', 'aq_4']]\n",
    "    aq_df.set_index(\"time_ms\", inplace=True)\n",
    "    aq_df.plot(kind=\"line\", ylim=(-100, 65000), title=f\"raw {nm} aq values\")\n",
    "    plt.savefig(f\"{img_export_path}/raw_{nm}_aq_val.png\")"
   ]
  },
  {
   "cell_type": "code",
   "execution_count": null,
   "metadata": {},
   "outputs": [],
   "source": [
    "def plot_dabs(df, nm):\n",
    "    x = df.loc[df[\"nm\"] == nm]['time_ms']\n",
    "    y = df.loc[df[\"nm\"] == nm]['d_abs']\n",
    "    plt.scatter(x=x, y=y)\n",
    "    plt.show()\n",
    "\n",
    "plot_dabs(df=df, nm=\"940\")\n"
   ]
  },
  {
   "cell_type": "code",
   "execution_count": null,
   "metadata": {},
   "outputs": [],
   "source": [
    "\n",
    "\n",
    "print(np.min(df[\"pt_num\"]), np.max(df[\"pt_num\"]))\n",
    "df = dfs[0]\n",
    "df1 = dfs[1]\n",
    "df[\"nm\"] = 800\n",
    "df1[\"nm\"] = 900\n",
    "\n",
    "\n",
    "\n",
    "\n",
    "df[\"dA\"] = \n",
    "\n",
    "\n",
    "\n",
    "\n",
    "\n",
    "\n",
    "print(df.tail())"
   ]
  },
  {
   "cell_type": "code",
   "execution_count": null,
   "metadata": {},
   "outputs": [],
   "source": [
    "# plot it\n",
    "# plt.ylim(0, 12)\n",
    "df.groupby(\"nm\")[\"dAbs\"].plot(legend=True)\n",
    "df.to_csv(f\"export/df.csv\")\n",
    "\n",
    "print(df.shape)\n",
    "print(df.tail())"
   ]
  },
  {
   "cell_type": "markdown",
   "metadata": {},
   "source": [
    "from 100-190, relative signal\n",
    "before saturation pulse\n",
    "delat transmission, change relative to the pre sat pulse transmission\n",
    "\n",
    "deltaT / T\n",
    "\n",
    "T = pre saturation pulse\n",
    "\n",
    "THEN \n",
    "\n",
    "dA = (- deltaT/T)/2.3\n"
   ]
  },
  {
   "cell_type": "code",
   "execution_count": null,
   "metadata": {},
   "outputs": [],
   "source": [
    "\n",
    "# prepulse_mean = df.iloc]\n",
    "# df[\"dAbs\"] = df[\"V\"] / "
   ]
  },
  {
   "cell_type": "code",
   "execution_count": null,
   "metadata": {},
   "outputs": [],
   "source": [
    "# import re\n",
    "\n",
    "# resp = re.findall(pattern=\"v[0-9]\", string=df.param_string[0])\n",
    "# print(resp)\n",
    "\n",
    "divide "
   ]
  },
  {
   "cell_type": "code",
   "execution_count": null,
   "metadata": {},
   "outputs": [],
   "source": [
    "# # row means of all the data points\n",
    "# df[\"val\"] = df[['aq_0', 'aq_1', 'aq_2', 'aq_3', 'aq_4']].mean(numeric_only = True, axis=1)\n",
    "\n",
    "# df[\"V\"] = df[\"val\"] / 6535\n"
   ]
  },
  {
   "cell_type": "code",
   "execution_count": null,
   "metadata": {},
   "outputs": [],
   "source": [
    "# plt.plot(df['time_us'], df['V'])\n",
    "# plt.ylim(0, 10)\n",
    "# plt.show()"
   ]
  },
  {
   "cell_type": "code",
   "execution_count": null,
   "metadata": {},
   "outputs": [],
   "source": [
    "# (x='time_us', y='val')\n",
    "# plt.show()\n",
    "\n",
    "# plt.plot(df['time_us'], df['aq_0'])\n",
    "# plt.show()"
   ]
  },
  {
   "cell_type": "code",
   "execution_count": null,
   "metadata": {},
   "outputs": [],
   "source": [
    "\n",
    "# pispec.tracecontroller.modify_actinic(intensity=500)\n",
    "# time.sleep(5)\n"
   ]
  },
  {
   "cell_type": "code",
   "execution_count": null,
   "metadata": {},
   "outputs": [],
   "source": []
  },
  {
   "cell_type": "code",
   "execution_count": null,
   "metadata": {},
   "outputs": [],
   "source": []
  }
 ],
 "metadata": {
  "kernelspec": {
   "display_name": "Python 3.9.2 ('pi-venv': venv)",
   "language": "python",
   "name": "python3"
  },
  "language_info": {
   "codemirror_mode": {
    "name": "ipython",
    "version": 3
   },
   "file_extension": ".py",
   "mimetype": "text/x-python",
   "name": "python",
   "nbconvert_exporter": "python",
   "pygments_lexer": "ipython3",
   "version": "3.9.2"
  },
  "vscode": {
   "interpreter": {
    "hash": "c91c631945b4ab69acf6d84149ec63c39dc65b85dab3fc6d5eebd73afec1b999"
   }
  }
 },
 "nbformat": 4,
 "nbformat_minor": 2
}
