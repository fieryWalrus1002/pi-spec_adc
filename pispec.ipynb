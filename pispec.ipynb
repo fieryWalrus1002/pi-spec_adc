{
 "cells": [
  {
   "cell_type": "code",
   "execution_count": 1,
   "metadata": {},
   "outputs": [],
   "source": [
    "from src.cli import PispecInterface, TraceParams\n",
    "from src.tracecontroller import TraceController, TraceControllerDebug\n",
    "import matplotlib.pyplot as plt"
   ]
  },
  {
   "cell_type": "code",
   "execution_count": 2,
   "metadata": {},
   "outputs": [
    {
     "name": "stdout",
     "output_type": "stream",
     "text": [
      "5824\n"
     ]
    }
   ],
   "source": [
    "tracecontroller = TraceController(baud_rate=115200)\n",
    "pispec = PispecInterface(tracecontroller=tracecontroller)"
   ]
  },
  {
   "cell_type": "code",
   "execution_count": 3,
   "metadata": {},
   "outputs": [
    {
     "data": {
      "text/plain": [
       "'r5;v0;n10000;z1;i100;p50;e0;w0;x0;y0;'"
      ]
     },
     "execution_count": 3,
     "metadata": {},
     "output_type": "execute_result"
    }
   ],
   "source": [
    "# experiment parameters\n",
    "params1 = TraceParams(num_points=10000,\n",
    "    pulse_interval = 100,\n",
    "    meas_led_ir = 5,\n",
    "    meas_led_vis = 0,\n",
    "    pulse_length = 50,\n",
    "    sat_pulse_begin = 500,\n",
    "    sat_pulse_end = 600,\n",
    "    pulse_mode = 1,\n",
    "    trigger_delay = 0,\n",
    "    trace_note = \"debug\",\n",
    "    act_intensity = [0, 0, 0]\n",
    ")\n",
    "\n",
    "params2 = TraceParams(num_points=1000,\n",
    "    pulse_interval = 100,\n",
    "    meas_led_ir = 6,\n",
    "    meas_led_vis = 0,\n",
    "    pulse_length = 50,\n",
    "    sat_pulse_begin = 500,\n",
    "    sat_pulse_end = 600,\n",
    "    pulse_mode = 1,\n",
    "    trigger_delay = 0,\n",
    "    trace_note = \"debug\",\n",
    "    act_intensity = [0, 1000, 0]\n",
    ")\n",
    "\n",
    "params1.param_string"
   ]
  },
  {
   "cell_type": "code",
   "execution_count": 4,
   "metadata": {},
   "outputs": [
    {
     "name": "stdout",
     "output_type": "stream",
     "text": [
      "params: \n",
      "params: \n"
     ]
    }
   ],
   "source": [
    "# set trace parameters\n",
    "pispec.setup_trace(params1.param_string)\n",
    "pispec.setup_trace(params2.param_string)\n"
   ]
  },
  {
   "cell_type": "code",
   "execution_count": null,
   "metadata": {},
   "outputs": [],
   "source": []
  },
  {
   "cell_type": "code",
   "execution_count": 5,
   "metadata": {},
   "outputs": [
    {
     "name": "stdout",
     "output_type": "stream",
     "text": [
      "params: \n",
      "trigger in...\n",
      "3\n",
      "2\n",
      "1\n",
      "------------------------\n",
      "1\n"
     ]
    }
   ],
   "source": [
    "pispec.setup_trace(params1.param_string)\n",
    "\n",
    "# run trace\n",
    "df = pispec.run_trace()\n",
    "\n",
    "print(df)"
   ]
  },
  {
   "cell_type": "code",
   "execution_count": null,
   "metadata": {},
   "outputs": [],
   "source": [
    "\n",
    "\n",
    "pispec.setup_trace(params2.param_string)\n",
    "\n",
    "# run trace\n",
    "df2 = pispec.run_trace()\n",
    "\n"
   ]
  },
  {
   "cell_type": "code",
   "execution_count": null,
   "metadata": {},
   "outputs": [],
   "source": [
    "\n",
    "plt.plot(df.time_us, df.value)\n",
    "plt.show()"
   ]
  },
  {
   "cell_type": "code",
   "execution_count": null,
   "metadata": {},
   "outputs": [],
   "source": [
    "plt.plot(df2.time_us, df2.value)\n",
    "plt.show()"
   ]
  }
 ],
 "metadata": {
  "kernelspec": {
   "display_name": "Python 3.9.12",
   "language": "python",
   "name": "python3"
  },
  "language_info": {
   "codemirror_mode": {
    "name": "ipython",
    "version": 3
   },
   "file_extension": ".py",
   "mimetype": "text/x-python",
   "name": "python",
   "nbconvert_exporter": "python",
   "pygments_lexer": "ipython3",
   "version": "3.9.12"
  },
  "orig_nbformat": 4,
  "vscode": {
   "interpreter": {
    "hash": "b5ddb7da350bfb336ca3da67fbb18fb6623a127aaece9aebe24d20b28bed94c0"
   }
  }
 },
 "nbformat": 4,
 "nbformat_minor": 2
}
