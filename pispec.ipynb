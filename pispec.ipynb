{
    "cells": [
        {
            "cell_type": "code",
            "execution_count": 1,
            "metadata": {},
            "outputs": [
                {
                    "name": "stdout",
                    "output_type": "stream",
                    "text": [
                        "waiting for serial... 0.0005011651515960694\n",
                        "/dev/ttyACM0\n"
                    ]
                }
            ],
            "source": [
                "from src.pispec import PiSpec\n",
                "from src.trace_utils import TraceParams\n",
                "import matplotlib.pyplot as plt\n",
                "\n",
                "# initialize the interface0 v\n",
                "pispec = PiSpec()\n",
                "print(pispec.tracecontroller.device)\n",
                "\n",
                "# alternate the datapoints between two detectors? \n",
                "# Thats a tracecontroller things\n",
                "\n",
                "# the tracecontroller is broken\n",
                "\n",
                "# pispec.tracecontroller._debug()\n"
            ]
        },
        {
            "cell_type": "code",
            "execution_count": 2,
            "metadata": {},
            "outputs": [
                {
                    "name": "stdout",
                    "output_type": "stream",
                    "text": [
                        "0\n",
                        "\n",
                        "0\n"
                    ]
                }
            ],
            "source": [
                "print(pispec.set_power_state(0))\n",
                "print(pispec.set_actinic_intensity(0))\n",
                "print(pispec.set_actinic_state(0))\n",
                "\n",
                "# pispec.meas_led_testJ()\n",
                "# pispec.actinic_test()"
            ]
        },
        {
            "cell_type": "markdown",
            "metadata": {},
            "source": [
                "### Experiment Test"
            ]
        },
        {
            "cell_type": "code",
            "execution_count": 3,
            "metadata": {},
            "outputs": [
                {
                    "name": "stdout",
                    "output_type": "stream",
                    "text": [
                        "PiSpec connected.\n",
                        "creating parameters\n",
                        "init experiment\n",
                        "dest_path exists: /home/pi/projects/pi-spec-cli/export/221003_p700_test\n",
                        "DataHandler created for these traces\n",
                        "setting power state\n",
                        "dest_path: /home/pi/projects/pi-spec-cli/export/221003_p700_test\n",
                        "begin trace run\n",
                        "trace 0, params: r0;v6;n1000;z1;i1000;p75;e35;w0;x140;y0;\n",
                        "tracecontroller response: \n",
                        "run trace\n",
                        "trace complete\n",
                        "trace 1, params: r0;v7;n1000;z1;i1000;p75;e35;w0;x140;y0;\n",
                        "tracecontroller response: \n",
                        "run trace\n",
                        "trace complete\n"
                    ]
                },
                {
                    "data": {
                        "text/plain": [
                            "'Experiment concluded, trace data is ready for processing.'"
                        ]
                    },
                    "execution_count": 3,
                    "metadata": {},
                    "output_type": "execute_result"
                }
            ],
            "source": [
                "# pispec = PiSpec()\n",
                "\n",
                "print(\"PiSpec connected.\")\n",
                "#experiment variables\n",
                "exp_name = \"p700_test\"\n",
                "\n",
                "print(\"creating parameters\")\n",
                "trace_params = [TraceParams(num_points=1000,\n",
                "    pulse_interval = 1000,\n",
                "    meas_led_ir = 0,\n",
                "    meas_led_vis = x,\n",
                "    pulse_length = 75,\n",
                "    sat_pulse_begin = 400,\n",
                "    sat_pulse_end = 500,\n",
                "    pulse_mode = 1,\n",
                "    trigger_delay = 35,\n",
                "    trace_note = exp_name,\n",
                "    act_intensity = [0, 140, 0]\n",
                ") for x in range(6, 8)]\n",
                "\n",
                "# begin experiment\n",
                "print(\"init experiment\")\n",
                "dest_path = pispec.init_experiment(exp_name=exp_name)\n",
                "print(f\"dest_path: {dest_path}\")\n",
                "print(\"begin trace run\")\n",
                "for i, param in enumerate(trace_params):\n",
                "\n",
                "    # setup the trace paramaters\n",
                "    print(f\"trace {i}, params: {param.param_string}\")\n",
                "    print(f\"tracecontroller response: {pispec.setup_trace(param)}\")\n",
                "    pispec.wait(1)\n",
                "    print(\"run trace\")\n",
                "    status = pispec.run_trace(timeout_s=5)\n",
                "    pispec.wait(1)\n",
                "    print(\"trace complete\")\n",
                "\n",
                "pispec.conclude_experiment()"
            ]
        },
        {
            "cell_type": "code",
            "execution_count": 6,
            "metadata": {},
            "outputs": [
                {
                    "name": "stdout",
                    "output_type": "stream",
                    "text": [
                        "(400, 18)\n",
                        "(400, 18)\n"
                    ]
                }
            ],
            "source": [
                "# retrieve buffer data from pispec and create our dataframes\n",
                "# \n",
                "import numpy as np\n",
                "dfs = pispec.get_dataframe_list()\n",
                "\n",
                "for df in dfs:\n",
                "    print(df.shape)\n",
                "\n",
                "# df = dfs[0].append(dfs[1])\n",
                "\n",
                "# print(df.head())\n",
                "\n",
                "# print(np.min(df[\"pt_num\"]), np.max(df[\"pt_num\"]))\n",
                "# df = dfs[0]\n",
                "# df1 = dfs[1]\n",
                "# df[\"nm\"] = 800\n",
                "# df1[\"nm\"] = 900\n",
                "# df = df.append(df1)\n",
                "\n",
                "# # row means of all the data points\n",
                "# df[\"val\"] = df[['aq_0', 'aq_1', 'aq_2', 'aq_3', 'aq_4']].mean(numeric_only = True, axis=1)\n",
                "# df[\"zero_val\"] = df[['paq_0', 'paq_1', 'paq_2']].mean(numeric_only = True, axis=1)\n",
                "# df[\"V\"] = (df[\"val\"]  - df[\"zero_val\"]) * (12 / 65535)\n",
                "# df[\"time_ms\"] = df[\"time_us\"] / 1000\n",
                "# df.set_index(\"time_ms\", inplace=True)"
            ]
        },
        {
            "cell_type": "code",
            "execution_count": 7,
            "metadata": {},
            "outputs": [
                {
                    "ename": "KeyError",
                    "evalue": "'nm'",
                    "output_type": "error",
                    "traceback": [
                        "\u001b[0;31m---------------------------------------------------------------------------\u001b[0m",
                        "\u001b[0;31mKeyError\u001b[0m                                  Traceback (most recent call last)",
                        "Cell \u001b[0;32mIn [7], line 3\u001b[0m\n\u001b[1;32m      1\u001b[0m \u001b[38;5;66;03m# plot it\u001b[39;00m\n\u001b[1;32m      2\u001b[0m \u001b[38;5;66;03m# plt.ylim(0, 12)\u001b[39;00m\n\u001b[0;32m----> 3\u001b[0m \u001b[43mdf\u001b[49m\u001b[38;5;241;43m.\u001b[39;49m\u001b[43mgroupby\u001b[49m\u001b[43m(\u001b[49m\u001b[38;5;124;43m\"\u001b[39;49m\u001b[38;5;124;43mnm\u001b[39;49m\u001b[38;5;124;43m\"\u001b[39;49m\u001b[43m)\u001b[49m[\u001b[38;5;124m\"\u001b[39m\u001b[38;5;124mdAbs\u001b[39m\u001b[38;5;124m\"\u001b[39m]\u001b[38;5;241m.\u001b[39mplot(legend\u001b[38;5;241m=\u001b[39m\u001b[38;5;28;01mTrue\u001b[39;00m)\n\u001b[1;32m      4\u001b[0m df\u001b[38;5;241m.\u001b[39mto_csv(\u001b[38;5;124mf\u001b[39m\u001b[38;5;124m\"\u001b[39m\u001b[38;5;124mexport/df.csv\u001b[39m\u001b[38;5;124m\"\u001b[39m)\n\u001b[1;32m      6\u001b[0m \u001b[38;5;28mprint\u001b[39m(df\u001b[38;5;241m.\u001b[39mshape)\n",
                        "File \u001b[0;32m~/projects/pi-spec-cli/pi-venv/lib/python3.9/site-packages/pandas/core/frame.py:7631\u001b[0m, in \u001b[0;36mDataFrame.groupby\u001b[0;34m(self, by, axis, level, as_index, sort, group_keys, squeeze, observed, dropna)\u001b[0m\n\u001b[1;32m   7627\u001b[0m axis \u001b[39m=\u001b[39m \u001b[39mself\u001b[39m\u001b[39m.\u001b[39m_get_axis_number(axis)\n\u001b[1;32m   7629\u001b[0m \u001b[39m# error: Argument \"squeeze\" to \"DataFrameGroupBy\" has incompatible type\u001b[39;00m\n\u001b[1;32m   7630\u001b[0m \u001b[39m# \"Union[bool, NoDefault]\"; expected \"bool\"\u001b[39;00m\n\u001b[0;32m-> 7631\u001b[0m \u001b[39mreturn\u001b[39;00m DataFrameGroupBy(\n\u001b[1;32m   7632\u001b[0m     obj\u001b[39m=\u001b[39;49m\u001b[39mself\u001b[39;49m,\n\u001b[1;32m   7633\u001b[0m     keys\u001b[39m=\u001b[39;49mby,\n\u001b[1;32m   7634\u001b[0m     axis\u001b[39m=\u001b[39;49maxis,\n\u001b[1;32m   7635\u001b[0m     level\u001b[39m=\u001b[39;49mlevel,\n\u001b[1;32m   7636\u001b[0m     as_index\u001b[39m=\u001b[39;49mas_index,\n\u001b[1;32m   7637\u001b[0m     sort\u001b[39m=\u001b[39;49msort,\n\u001b[1;32m   7638\u001b[0m     group_keys\u001b[39m=\u001b[39;49mgroup_keys,\n\u001b[1;32m   7639\u001b[0m     squeeze\u001b[39m=\u001b[39;49msqueeze,  \u001b[39m# type: ignore[arg-type]\u001b[39;49;00m\n\u001b[1;32m   7640\u001b[0m     observed\u001b[39m=\u001b[39;49mobserved,\n\u001b[1;32m   7641\u001b[0m     dropna\u001b[39m=\u001b[39;49mdropna,\n\u001b[1;32m   7642\u001b[0m )\n",
                        "File \u001b[0;32m~/projects/pi-spec-cli/pi-venv/lib/python3.9/site-packages/pandas/core/groupby/groupby.py:889\u001b[0m, in \u001b[0;36mGroupBy.__init__\u001b[0;34m(self, obj, keys, axis, level, grouper, exclusions, selection, as_index, sort, group_keys, squeeze, observed, mutated, dropna)\u001b[0m\n\u001b[1;32m    886\u001b[0m \u001b[39mif\u001b[39;00m grouper \u001b[39mis\u001b[39;00m \u001b[39mNone\u001b[39;00m:\n\u001b[1;32m    887\u001b[0m     \u001b[39mfrom\u001b[39;00m \u001b[39mpandas\u001b[39;00m\u001b[39m.\u001b[39;00m\u001b[39mcore\u001b[39;00m\u001b[39m.\u001b[39;00m\u001b[39mgroupby\u001b[39;00m\u001b[39m.\u001b[39;00m\u001b[39mgrouper\u001b[39;00m \u001b[39mimport\u001b[39;00m get_grouper\n\u001b[0;32m--> 889\u001b[0m     grouper, exclusions, obj \u001b[39m=\u001b[39m get_grouper(\n\u001b[1;32m    890\u001b[0m         obj,\n\u001b[1;32m    891\u001b[0m         keys,\n\u001b[1;32m    892\u001b[0m         axis\u001b[39m=\u001b[39;49maxis,\n\u001b[1;32m    893\u001b[0m         level\u001b[39m=\u001b[39;49mlevel,\n\u001b[1;32m    894\u001b[0m         sort\u001b[39m=\u001b[39;49msort,\n\u001b[1;32m    895\u001b[0m         observed\u001b[39m=\u001b[39;49mobserved,\n\u001b[1;32m    896\u001b[0m         mutated\u001b[39m=\u001b[39;49m\u001b[39mself\u001b[39;49m\u001b[39m.\u001b[39;49mmutated,\n\u001b[1;32m    897\u001b[0m         dropna\u001b[39m=\u001b[39;49m\u001b[39mself\u001b[39;49m\u001b[39m.\u001b[39;49mdropna,\n\u001b[1;32m    898\u001b[0m     )\n\u001b[1;32m    900\u001b[0m \u001b[39mself\u001b[39m\u001b[39m.\u001b[39mobj \u001b[39m=\u001b[39m obj\n\u001b[1;32m    901\u001b[0m \u001b[39mself\u001b[39m\u001b[39m.\u001b[39maxis \u001b[39m=\u001b[39m obj\u001b[39m.\u001b[39m_get_axis_number(axis)\n",
                        "File \u001b[0;32m~/projects/pi-spec-cli/pi-venv/lib/python3.9/site-packages/pandas/core/groupby/grouper.py:862\u001b[0m, in \u001b[0;36mget_grouper\u001b[0;34m(obj, key, axis, level, sort, observed, mutated, validate, dropna)\u001b[0m\n\u001b[1;32m    860\u001b[0m         in_axis, level, gpr \u001b[39m=\u001b[39m \u001b[39mFalse\u001b[39;00m, gpr, \u001b[39mNone\u001b[39;00m\n\u001b[1;32m    861\u001b[0m     \u001b[39melse\u001b[39;00m:\n\u001b[0;32m--> 862\u001b[0m         \u001b[39mraise\u001b[39;00m \u001b[39mKeyError\u001b[39;00m(gpr)\n\u001b[1;32m    863\u001b[0m \u001b[39melif\u001b[39;00m \u001b[39misinstance\u001b[39m(gpr, Grouper) \u001b[39mand\u001b[39;00m gpr\u001b[39m.\u001b[39mkey \u001b[39mis\u001b[39;00m \u001b[39mnot\u001b[39;00m \u001b[39mNone\u001b[39;00m:\n\u001b[1;32m    864\u001b[0m     \u001b[39m# Add key to exclusions\u001b[39;00m\n\u001b[1;32m    865\u001b[0m     exclusions\u001b[39m.\u001b[39madd(gpr\u001b[39m.\u001b[39mkey)\n",
                        "\u001b[0;31mKeyError\u001b[0m: 'nm'"
                    ]
                }
            ],
            "source": [
                "# plot it\n",
                "# plt.ylim(0, 12)\n",
                "df.groupby(\"nm\")[\"dAbs\"].plot(legend=True)\n",
                "df.to_csv(f\"export/df.csv\")\n",
                "\n",
                "print(df.shape)\n",
                "print(df.tail())"
            ]
        },
        {
            "cell_type": "markdown",
            "metadata": {},
            "source": [
                "from 100-190, relative signal\n",
                "before saturation pulse\n",
                "delat transmission, change relative to the pre sat pulse transmission\n",
                "\n",
                "deltaT / T\n",
                "\n",
                "T = pre saturation pulse\n",
                "\n",
                "THEN \n",
                "\n",
                "dA = (- deltaT/T)/2.3\n"
            ]
        },
        {
            "cell_type": "code",
            "execution_count": null,
            "metadata": {},
            "outputs": [],
            "source": [
                "\n",
                "# prepulse_mean = df.iloc]\n",
                "# df[\"dAbs\"] = df[\"V\"] / "
            ]
        },
        {
            "cell_type": "code",
            "execution_count": null,
            "metadata": {},
            "outputs": [],
            "source": [
                "# import re\n",
                "\n",
                "# resp = re.findall(pattern=\"v[0-9]\", string=df.param_string[0])\n",
                "# print(resp)\n",
                "\n",
                "divide "
            ]
        },
        {
            "cell_type": "code",
            "execution_count": null,
            "metadata": {},
            "outputs": [],
            "source": [
                "# # row means of all the data points\n",
                "# df[\"val\"] = df[['aq_0', 'aq_1', 'aq_2', 'aq_3', 'aq_4']].mean(numeric_only = True, axis=1)\n",
                "\n",
                "# df[\"V\"] = df[\"val\"] / 6535\n",
                "\n",
                "# plt.plot(df['time_us'], df['V'])\n",
                "# plt.ylim(0, 5)\n",
                "# plt.show()"
            ]
        },
        {
            "cell_type": "code",
            "execution_count": null,
            "metadata": {},
            "outputs": [],
            "source": [
                "# plt.plot(df['time_us'], df['V'])\n",
                "# plt.ylim(0, 10)\n",
                "# plt.show()"
            ]
        },
        {
            "cell_type": "code",
            "execution_count": null,
            "metadata": {},
            "outputs": [],
            "source": [
                "# (x='time_us', y='val')\n",
                "# plt.show()\n",
                "\n",
                "# plt.plot(df['time_us'], df['aq_0'])\n",
                "# plt.show()"
            ]
        },
        {
            "cell_type": "code",
            "execution_count": null,
            "metadata": {},
            "outputs": [],
            "source": [
                "\n",
                "# pispec.tracecontroller.modify_actinic(intensity=500)\n",
                "# time.sleep(5)\n"
            ]
        },
        {
            "cell_type": "code",
            "execution_count": null,
            "metadata": {},
            "outputs": [],
            "source": []
        },
        {
            "cell_type": "code",
            "execution_count": null,
            "metadata": {},
            "outputs": [],
            "source": []
        }
    ],
    "metadata": {
        "kernelspec": {
            "display_name": "Python 3.9.2 ('pi-venv': venv)",
            "language": "python",
            "name": "python3"
        },
        "language_info": {
            "codemirror_mode": {
                "name": "ipython",
                "version": 3
            },
            "file_extension": ".py",
            "mimetype": "text/x-python",
            "name": "python",
            "nbconvert_exporter": "python",
            "pygments_lexer": "ipython3",
            "version": "3.9.2"
        },
        "vscode": {
            "interpreter": {
                "hash": "c91c631945b4ab69acf6d84149ec63c39dc65b85dab3fc6d5eebd73afec1b999"
            }
        }
    },
    "nbformat": 4,
    "nbformat_minor": 2
}
