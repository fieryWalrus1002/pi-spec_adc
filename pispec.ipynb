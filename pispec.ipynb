{
    "cells": [
        {
            "cell_type": "code",
            "execution_count": 1,
            "metadata": {},
            "outputs": [
                {
                    "name": "stdout",
                    "output_type": "stream",
                    "text": [
                        "waiting for serial... 0.000501129150390625\n",
                        "/dev/ttyACM2\n"
                    ]
                }
            ],
            "source": [
                "from src.pispec import PiSpec\n",
                "from src.trace_utils import TraceParams\n",
                "import matplotlib.pyplot as plt\n",
                "import numpy as np\n",
                "import pandas as pd\n",
                "from io import StringIO\n",
                "import time\n",
                "\n",
                "# initialize the interface0 v\n",
                "pispec = PiSpec()\n",
                "print(pispec.tracecontroller.device)\n",
                "\n",
                "# alternate the datapoints between two detectors? \n",
                "# Thats a tracecontroller things\n",
                "\n",
                "# the tracecontroller is broken\n",
                "\n",
                "# pispec.tracecontroller._debug()\n",
                "\n"
            ]
        },
        {
            "cell_type": "code",
            "execution_count": 2,
            "metadata": {},
            "outputs": [
                {
                    "name": "stdout",
                    "output_type": "stream",
                    "text": [
                        "2.54 µs ± 16.9 ns per loop (mean ± std. dev. of 7 runs, 100,000 loops each)\n"
                    ]
                }
            ],
            "source": [
                "# %timeit TraceParams(meas_led_vis = 6)\n",
                "# %timeit -r 1 -n 1000 pispec.init_experiment(exp_name=\"hat\")\n",
                "\n",
                "    \n",
                "    \n",
                "%timeit param = TraceParams(meas_led_vis = 6)\n",
                "param = TraceParams(meas_led_vis = 6)\n",
                "    \n",
                "    \n"
            ]
        },
        {
            "cell_type": "code",
            "execution_count": 3,
            "metadata": {},
            "outputs": [
                {
                    "name": "stdout",
                    "output_type": "stream",
                    "text": [
                        "23.7 µs ± 50.3 ns per loop (mean ± std. dev. of 7 runs, 10,000 loops each)\n"
                    ]
                }
            ],
            "source": [
                "%timeit pispec.init_experiment(exp_name=\"timeit\")\n",
                "dest_path = pispec.init_experiment(exp_name=\"timeit\")\n",
                "    \n"
            ]
        },
        {
            "cell_type": "code",
            "execution_count": 5,
            "metadata": {},
            "outputs": [
                {
                    "name": "stdout",
                    "output_type": "stream",
                    "text": [
                        "85.6 µs ± 474 ns per loop (mean ± std. dev. of 7 runs, 10,000 loops each)\n"
                    ]
                }
            ],
            "source": [
                "%timeit pispec.setup_trace(param)\n",
                "    \n"
            ]
        },
        {
            "cell_type": "code",
            "execution_count": 6,
            "metadata": {},
            "outputs": [
                {
                    "name": "stdout",
                    "output_type": "stream",
                    "text": [
                        "1.85 s ± 454 ms per loop (mean ± std. dev. of 7 runs, 1 loop each)\n"
                    ]
                }
            ],
            "source": [
                "%timeit pispec.run_trace(timeout_s=0.5)\n"
            ]
        },
        {
            "cell_type": "code",
            "execution_count": 7,
            "metadata": {},
            "outputs": [
                {
                    "name": "stdout",
                    "output_type": "stream",
                    "text": [
                        "561 ns ± 3.48 ns per loop (mean ± std. dev. of 7 runs, 1,000,000 loops each)\n"
                    ]
                }
            ],
            "source": [
                "%timeit pispec.conclude_experiment()\n",
                "  \n"
            ]
        },
        {
            "cell_type": "code",
            "execution_count": 20,
            "metadata": {},
            "outputs": [
                {
                    "name": "stdout",
                    "output_type": "stream",
                    "text": [
                        ", 0, 0, 0, 0\n",
                        "584,292584, 0, 0, 0, 0, 0, 0, 0, 0, 0\n",
                        "585,293085, 0, 0, 0, 0, 0, 0, 0, 0, 0\n",
                        "586,2935\n"
                    ]
                }
            ],
            "source": [
                "\n",
                "def single_trace(exp_name: str = \"single_test\"):    \n",
                "    param = TraceParams(meas_led_vis = 6, pulse_interval= 1000, num_points = 2000)\n",
                "        \n",
                "    dest_path = pispec.init_experiment(exp_name=exp_name)\n",
                "    \n",
                "    pispec.setup_trace(param)\n",
                "    \n",
                "    status = pispec.run_trace(timeout_s=20.0)\n",
                "    \n",
                "    pispec.conclude_experiment()\n",
                "    \n",
                "single_trace()\n",
                "\n",
                "tdata = pispec.datahandler.trace_buffers[0]\n",
                "\n",
                "print(tdata.buffer[-100:])"
            ]
        },
        {
            "cell_type": "code",
            "execution_count": null,
            "metadata": {},
            "outputs": [],
            "source": [
                "\n"
            ]
        },
        {
            "cell_type": "code",
            "execution_count": null,
            "metadata": {},
            "outputs": [],
            "source": [
                "tdata = pispec.datahandler.trace_buffers[0]\n",
                "\n",
                "print(tdata.buffer[-100:])\n",
                "f = StringIO(tdata.buffer)\n",
                "\n",
                "df = pd.read_csv(f, header=None, names=tdata.col_names[0])\n",
                "\n",
                "print(df.shape)\n",
                "\n",
                "print(np.min(df[\"time_us\"]), np.max(df[\"time_us\"]))\n"
            ]
        },
        {
            "cell_type": "code",
            "execution_count": null,
            "metadata": {},
            "outputs": [],
            "source": [
                "print(pispec.set_power_state(0))\n",
                "print(pispec.set_actinic_intensity(0))\n",
                "print(pispec.set_actinic_state(0))\n",
                "\n",
                "# pispec.meas_led_testJ()\n",
                "# pispec.actinic_test()"
            ]
        },
        {
            "cell_type": "markdown",
            "metadata": {},
            "source": [
                "### Experiment Test"
            ]
        },
        {
            "cell_type": "code",
            "execution_count": 14,
            "metadata": {},
            "outputs": [
                {
                    "name": "stdout",
                    "output_type": "stream",
                    "text": [
                        "PiSpec connected.\n",
                        "creating parameters\n",
                        "init experiment\n",
                        "dest_path: /home/pi/projects/pi-spec-cli/export/221006_p700_test\n",
                        "begin trace run\n",
                        "trace 0, params: e35;i500;j0;n1000;p64;r0;s425;t525;v6;w0;x140;y0;z1\n",
                        "run trace\n",
                        "None\n",
                        "trace complete\n",
                        "trace 1, params: e35;i500;j0;n1000;p64;r0;s425;t525;v7;w0;x140;y0;z1\n",
                        "run trace\n",
                        "None\n",
                        "trace complete\n"
                    ]
                },
                {
                    "data": {
                        "text/plain": [
                            "'Experiment concluded, trace data is ready for processing.'"
                        ]
                    },
                    "execution_count": 14,
                    "metadata": {},
                    "output_type": "execute_result"
                }
            ],
            "source": [
                "# pispec = PiSpec()\n",
                "\n",
                "print(\"PiSpec connected.\")\n",
                "#experiment variables\n",
                "exp_name = \"p700_test\"\n",
                "\n",
                "print(\"creating parameters\")\n",
                "trace_params = [TraceParams(num_points=1000,\n",
                "    pulse_interval = 500,\n",
                "    meas_led_ir = 0,\n",
                "    meas_led_vis = x,\n",
                "    pulse_length = 64,\n",
                "    sat_pulse_begin = 425,\n",
                "    sat_pulse_end = 525,\n",
                "    pulse_mode = 1,\n",
                "    trigger_delay = 35,\n",
                "    trace_note = exp_name,\n",
                "    act_intensity = [0, 140, 0]\n",
                ") for x in range(6, 8)]\n",
                "\n",
                "# begin experiment\n",
                "print(\"init experiment\")\n",
                "dest_path = pispec.init_experiment(exp_name=exp_name)\n",
                "\n",
                "print(f\"dest_path: {dest_path}\")\n",
                "print(\"begin trace run\")\n",
                "for i, param in enumerate(trace_params):\n",
                "\n",
                "    # setup the trace paramaters\n",
                "    print(f\"trace {i}, params: {param.param_string}\")\n",
                "    pispec.setup_trace(param)\n",
                "    print(\"run trace\")  \n",
                "    status = pispec.run_trace(timeout_s=2.5)\n",
                "    print(status)\n",
                "    pispec.wait(1)\n",
                "    print(\"trace complete\")\n",
                "\n",
                "pispec.conclude_experiment()"
            ]
        },
        {
            "cell_type": "code",
            "execution_count": 15,
            "metadata": {},
            "outputs": [
                {
                    "name": "stdout",
                    "output_type": "stream",
                    "text": [
                        ", 0, 0, 0, 0\n",
                        "584,292584, 0, 0, 0, 0, 0, 0, 0, 0, 0\n",
                        "585,293085, 0, 0, 0, 0, 0, 0, 0, 0, 0\n",
                        "586,2935\n",
                        "(587, 11)\n",
                        "0 293085\n"
                    ]
                }
            ],
            "source": [
                "tdata = pispec.datahandler.trace_buffers[0]\n",
                "\n",
                "print(tdata.buffer[-100:])\n",
                "f = StringIO(tdata.buffer)\n",
                "\n",
                "df = pd.read_csv(f, header=None, names=tdata.col_names[0])\n",
                "\n",
                "print(df.shape)\n",
                "\n",
                "print(np.min(df[\"time_us\"]), np.max(df[\"time_us\"]))\n"
            ]
        },
        {
            "cell_type": "code",
            "execution_count": null,
            "metadata": {},
            "outputs": [],
            "source": [
                "import re\n",
                "\n",
                "\n",
                "def calc_d_abs(df):   \n",
                "    \"\"\" calculates delta A, or delta absorbance\n",
                "    deltaT = the change in transmission over the course of the trace in voltage terms\n",
                "    T = mean pre-pulse transmission. use the last 200 pts or so before the saturation pulse.\n",
                "\n",
                "    d_abs = -(deltaT/T)/2.3\n",
                "    \"\"\"\n",
                "    sat_pulse_begin = re.search('v[0-9]{1,2}', df.loc[0, \"param_string\"]).group()[1:]\n",
                "\n",
                "def get_meas_vis_num(df):\n",
                "    return re.search('v[0-9]{1,2}', df.loc[0, \"param_string\"]).group()[1:]\n",
                "    \n",
                "def get_meas_ir_num(df):\n",
                "    return re.search('r[0-9]{1,2}', df.loc[0, \"param_string\"]).group()[1:]\n",
                "\n",
                "\n",
                "def process_df(df):\n",
                "    df[\"val\"] = df[['aq_0', 'aq_1', 'aq_2', 'aq_3', 'aq_4']].mean(numeric_only = True, axis=1)\n",
                "    df[\"zero_val\"] = df[['paq_0', 'paq_1', 'paq_2']].mean(numeric_only = True, axis=1)\n",
                "    df[\"V\"] = (df[\"val\"]  - df[\"zero_val\"]) * (12 / 65535)\n",
                "    df[\"time_ms\"] = df[\"time_us\"] / 1000\n",
                "    df[\"nm\"] = nm_dict[get_meas_vis_num(df)]\n",
                "    df[\"d_abs\"] = calc_d_abs(df)\n",
                "\n",
                "\n",
                "    return df\n",
                "\n",
                "# this should be in config files\n",
                "nm_dict = {\"0\":\"0\", \"1\":\"520\", \"2\":\"545\", \"3\":\"550\", \"4\":\"554\", \"5\":\"572\", \"6\":\"830\", \"7\":\"940\", \"8\":\"0\"}\n",
                "\n",
                "dfs = [process_df(df) for df in pispec.get_dataframe_list()]\n",
                "\n",
                "\n",
                "print(dfs[0].shape)\n",
                "\n",
                "\n"
            ]
        },
        {
            "cell_type": "code",
            "execution_count": null,
            "metadata": {},
            "outputs": [],
            "source": [
                "# retrieve buffer data from pispec and create our dataframes\n",
                "# \n",
                "import numpy as np\n",
                "\n",
                "\n",
                "\n",
                "\n",
                "# param_string = dfs[0][\"param_string\"].split(\";\")\n",
                "\n",
                "\n",
                "#proc_dfs = [process_df(df) for df in dfs]\n",
                "\n",
                "# for df in dfs:\n",
                "    # # row means of all the data points\n",
                "\n"
            ]
        },
        {
            "cell_type": "code",
            "execution_count": null,
            "metadata": {},
            "outputs": [],
            "source": [
                "\n",
                "\n",
                "print(np.min(df[\"pt_num\"]), np.max(df[\"pt_num\"]))\n",
                "df = dfs[0]\n",
                "df1 = dfs[1]\n",
                "df[\"nm\"] = 800\n",
                "df1[\"nm\"] = 900\n",
                "\n",
                "\n",
                "\n",
                "\n",
                "df[\"dA\"] = \n",
                "\n",
                "\n",
                "\n",
                "\n",
                "df = df.append(df1)\n",
                "df.set_index(\"time_ms\", inplace=True)\n",
                "\n",
                "print(df.tail())"
            ]
        },
        {
            "cell_type": "code",
            "execution_count": null,
            "metadata": {},
            "outputs": [],
            "source": [
                "# plot it\n",
                "# plt.ylim(0, 12)\n",
                "df.groupby(\"nm\")[\"dAbs\"].plot(legend=True)\n",
                "df.to_csv(f\"export/df.csv\")\n",
                "\n",
                "print(df.shape)\n",
                "print(df.tail())"
            ]
        },
        {
            "cell_type": "markdown",
            "metadata": {},
            "source": [
                "from 100-190, relative signal\n",
                "before saturation pulse\n",
                "delat transmission, change relative to the pre sat pulse transmission\n",
                "\n",
                "deltaT / T\n",
                "\n",
                "T = pre saturation pulse\n",
                "\n",
                "THEN \n",
                "\n",
                "dA = (- deltaT/T)/2.3\n"
            ]
        },
        {
            "cell_type": "code",
            "execution_count": null,
            "metadata": {},
            "outputs": [],
            "source": [
                "\n",
                "# prepulse_mean = df.iloc]\n",
                "# df[\"dAbs\"] = df[\"V\"] / "
            ]
        },
        {
            "cell_type": "code",
            "execution_count": null,
            "metadata": {},
            "outputs": [],
            "source": [
                "# import re\n",
                "\n",
                "# resp = re.findall(pattern=\"v[0-9]\", string=df.param_string[0])\n",
                "# print(resp)\n",
                "\n",
                "divide "
            ]
        },
        {
            "cell_type": "code",
            "execution_count": null,
            "metadata": {},
            "outputs": [],
            "source": [
                "# # row means of all the data points\n",
                "# df[\"val\"] = df[['aq_0', 'aq_1', 'aq_2', 'aq_3', 'aq_4']].mean(numeric_only = True, axis=1)\n",
                "\n",
                "# df[\"V\"] = df[\"val\"] / 6535\n",
                "\n",
                "# plt.plot(df['time_us'], df['V'])\n",
                "# plt.ylim(0, 5)\n",
                "# plt.show()"
            ]
        },
        {
            "cell_type": "code",
            "execution_count": null,
            "metadata": {},
            "outputs": [],
            "source": [
                "# plt.plot(df['time_us'], df['V'])\n",
                "# plt.ylim(0, 10)\n",
                "# plt.show()"
            ]
        },
        {
            "cell_type": "code",
            "execution_count": null,
            "metadata": {},
            "outputs": [],
            "source": [
                "# (x='time_us', y='val')\n",
                "# plt.show()\n",
                "\n",
                "# plt.plot(df['time_us'], df['aq_0'])\n",
                "# plt.show()"
            ]
        },
        {
            "cell_type": "code",
            "execution_count": null,
            "metadata": {},
            "outputs": [],
            "source": [
                "\n",
                "# pispec.tracecontroller.modify_actinic(intensity=500)\n",
                "# time.sleep(5)\n"
            ]
        },
        {
            "cell_type": "code",
            "execution_count": null,
            "metadata": {},
            "outputs": [],
            "source": []
        },
        {
            "cell_type": "code",
            "execution_count": null,
            "metadata": {},
            "outputs": [],
            "source": []
        }
    ],
    "metadata": {
        "kernelspec": {
            "display_name": "Python 3.9.2 ('spec': venv)",
            "language": "python",
            "name": "python3"
        },
        "language_info": {
            "codemirror_mode": {
                "name": "ipython",
                "version": 3
            },
            "file_extension": ".py",
            "mimetype": "text/x-python",
            "name": "python",
            "nbconvert_exporter": "python",
            "pygments_lexer": "ipython3",
            "version": "3.9.2"
        },
        "vscode": {
            "interpreter": {
                "hash": "87d0fe9d7c47db3bafa173cc37aaac23dfc012f10a381d2f199b85b96b19842d"
            }
        }
    },
    "nbformat": 4,
    "nbformat_minor": 2
}
