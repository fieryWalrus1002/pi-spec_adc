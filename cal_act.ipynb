{
    "cells": [
        {
            "cell_type": "code",
            "execution_count": 33,
            "metadata": {},
            "outputs": [
                {
                    "name": "stdout",
                    "output_type": "stream",
                    "text": [
                        "/dev/ttyACM3\n"
                    ]
                },
                {
                    "data": {
                        "text/plain": [
                            "'a0;'"
                        ]
                    },
                    "execution_count": 33,
                    "metadata": {},
                    "output_type": "execute_result"
                }
            ],
            "source": [
                "from src.pispec import PiSpec\n",
                "from src.trace_utils import TraceParams\n",
                "import matplotlib.pyplot as plt\n",
                "\n",
                "# initialize the interface0 v\n",
                "pispec = PiSpec()\n",
                "print(pispec.tracecontroller.device)\n",
                "# alternate the datapoints between two detectors? \n",
                "# Thats a tracecontroller things\n",
                "\n",
                "pispec.power(\"off\")\n",
                "pispec.set_actinic(0)\n"
            ]
        },
        {
            "cell_type": "code",
            "execution_count": 11,
            "metadata": {},
            "outputs": [
                {
                    "data": {
                        "text/plain": [
                            "<AxesSubplot:title={'center':'Light intensity vs 0-255 digipot value'}, xlabel='act_val', ylabel='uE'>"
                        ]
                    },
                    "execution_count": 11,
                    "metadata": {},
                    "output_type": "execute_result"
                },
                {
                    "data": {
                        "image/png": "[encoded data removed]",
                        "text/plain": [
                            "<Figure size 640x480 with 1 Axes>"
                        ]
                    },
                    "metadata": {},
                    "output_type": "display_data"
                }
            ],
            "source": [
                "import pandas as pd\n",
                "import numpy as np \n",
                "\n",
                "df = pd.read_csv(\"cal_data.csv\", names=[\"act_val\", \"uE\"])\n",
                "\n",
                "df[\"log_uE\"] = df[\"uE\"].transform(np.log)\n",
                "df.plot(kind='scatter',\n",
                "x = 'act_val',\n",
                "y= 'uE',\n",
                "color='red',\n",
                "title=\"Light intensity vs 0-255 digipot value\")"
            ]
        },
        {
            "cell_type": "code",
            "execution_count": 25,
            "metadata": {},
            "outputs": [
                {
                    "ename": "ModuleNotFoundError",
                    "evalue": "No module named 'sklearn'",
                    "output_type": "error",
                    "traceback": [
                        "\u001b[0;31m---------------------------------------------------------------------------\u001b[0m",
                        "\u001b[0;31mModuleNotFoundError\u001b[0m                       Traceback (most recent call last)",
                        "Cell \u001b[0;32mIn [25], line 3\u001b[0m\n\u001b[1;32m      1\u001b[0m get_ipython()\u001b[38;5;241m.\u001b[39mrun_line_magic(\u001b[38;5;124m'\u001b[39m\u001b[38;5;124mmatplotlib\u001b[39m\u001b[38;5;124m'\u001b[39m, \u001b[38;5;124m'\u001b[39m\u001b[38;5;124minline\u001b[39m\u001b[38;5;124m'\u001b[39m)\n\u001b[0;32m----> 3\u001b[0m \u001b[38;5;28;01mfrom\u001b[39;00m \u001b[38;5;21;01msklearn\u001b[39;00m\u001b[38;5;21;01m.\u001b[39;00m\u001b[38;5;21;01mmetrics\u001b[39;00m \u001b[38;5;28;01mimport\u001b[39;00m r2_score\n\u001b[1;32m      5\u001b[0m \u001b[38;5;66;03m# fit the data\u001b[39;00m\n\u001b[1;32m      6\u001b[0m x \u001b[38;5;241m=\u001b[39m df\u001b[38;5;241m.\u001b[39mact_val\u001b[38;5;241m.\u001b[39mastype(\u001b[38;5;28mint\u001b[39m)\n",
                        "\u001b[0;31mModuleNotFoundError\u001b[0m: No module named 'sklearn'"
                    ]
                }
            ],
            "source": [
                "%matplotlib inline\n",
                "\n",
                "from sklearn.metrics import r2_score\n",
                "\n",
                "# fit the data\n",
                "x = df.act_val.astype(int)\n",
                "y = df.uE.astype(int)\n",
                "\n",
                "model = np.polyfit(x, y, 1)\n",
                "pred = np.poly1d(model)\n",
                "\n",
                "plt.scatter(x, y)\n"
            ]
        },
        {
            "cell_type": "markdown",
            "metadata": {},
            "source": []
        },
        {
            "cell_type": "code",
            "execution_count": 18,
            "metadata": {},
            "outputs": [
                {
                    "name": "stdout",
                    "output_type": "stream",
                    "text": [
                        "100, 145\n",
                        "\n",
                        "102, 220\n",
                        "\n",
                        "104, 325\n",
                        "\n",
                        "106, 481\n",
                        "\n",
                        "108, 720\n",
                        "\n",
                        "110, 1050\n",
                        "\n",
                        "112, 1500\n",
                        "\n",
                        "114, 2000\n",
                        "\n",
                        "116, 2500\n",
                        "\n",
                        "118, 3000\n",
                        "\n",
                        "120, 3500\n",
                        "\n"
                    ]
                }
            ],
            "source": [
                "cal_data = []\n",
                "\n",
                "for i in range(50, 70):\n",
                "    act_int = i * 2\n",
                "    pispec.set_actinic(act_int)\n",
                "    pispec.power(\"on\")\n",
                "    ue = input(\"Enter measured light intensity: \")\n",
                "    pispec.power(\"off\")\n",
                "    pispec.set_actinic(0)\n",
                "    cal_data.append((act_int, ue))\n",
                "    print(f'{act_int}, {ue}\\n')\n",
                "\n",
                "3500\n"
            ]
        },
        {
            "cell_type": "code",
            "execution_count": 23,
            "metadata": {},
            "outputs": [
                {
                    "name": "stdout",
                    "output_type": "stream",
                    "text": [
                        "0\n",
                        "1\n",
                        "2\n",
                        "3\n",
                        "4\n",
                        "5\n",
                        "6\n",
                        "7\n",
                        "8\n",
                        "9\n",
                        "10\n",
                        "11\n",
                        "12\n",
                        "13\n",
                        "14\n",
                        "15\n",
                        "16\n",
                        "17\n",
                        "18\n",
                        "19\n",
                        "20\n",
                        "21\n",
                        "22\n",
                        "23\n",
                        "24\n",
                        "25\n",
                        "26\n",
                        "27\n",
                        "28\n",
                        "29\n",
                        "30\n",
                        "31\n",
                        "32\n",
                        "33\n",
                        "34\n",
                        "35\n",
                        "36\n",
                        "37\n",
                        "38\n",
                        "39\n",
                        "40\n",
                        "41\n",
                        "42\n",
                        "43\n",
                        "44\n",
                        "45\n",
                        "46\n",
                        "47\n",
                        "48\n",
                        "49\n",
                        "50\n",
                        "51\n",
                        "52\n",
                        "53\n",
                        "54\n",
                        "55\n",
                        "56\n",
                        "57\n",
                        "58\n",
                        "59\n",
                        "60\n",
                        "61\n",
                        "62\n",
                        "63\n",
                        "64\n",
                        "65\n",
                        "66\n",
                        "67\n",
                        "68\n",
                        "69\n",
                        "70\n",
                        "71\n",
                        "72\n",
                        "73\n",
                        "74\n",
                        "75\n",
                        "76\n",
                        "77\n",
                        "78\n",
                        "79\n",
                        "80\n",
                        "81\n",
                        "82\n",
                        "83\n",
                        "84\n",
                        "85\n",
                        "86\n",
                        "87\n",
                        "88\n",
                        "89\n",
                        "90\n",
                        "91\n",
                        "92\n",
                        "93\n",
                        "94\n",
                        "95\n",
                        "96\n",
                        "97\n",
                        "98\n",
                        "99\n",
                        "100\n",
                        "101\n",
                        "102\n",
                        "103\n",
                        "104\n",
                        "105\n",
                        "106\n",
                        "107\n",
                        "108\n",
                        "109\n",
                        "110\n",
                        "111\n",
                        "112\n",
                        "113\n",
                        "114\n",
                        "115\n",
                        "116\n",
                        "117\n",
                        "118\n",
                        "119\n",
                        "120\n",
                        "121\n",
                        "122\n",
                        "123\n",
                        "124\n",
                        "125\n",
                        "126\n",
                        "127\n",
                        "128\n",
                        "129\n",
                        "130\n",
                        "131\n",
                        "132\n",
                        "133\n",
                        "134\n",
                        "135\n",
                        "136\n",
                        "137\n"
                    ]
                },
                {
                    "ename": "KeyboardInterrupt",
                    "evalue": "",
                    "output_type": "error",
                    "traceback": [
                        "\u001b[0;31m---------------------------------------------------------------------------\u001b[0m",
                        "\u001b[0;31mKeyboardInterrupt\u001b[0m                         Traceback (most recent call last)",
                        "Cell \u001b[0;32mIn [23], line 17\u001b[0m\n\u001b[1;32m     15\u001b[0m \u001b[38;5;28;01mfor\u001b[39;00m intensity \u001b[38;5;129;01min\u001b[39;00m \u001b[38;5;28mrange\u001b[39m(begin_int, end_int):\n\u001b[1;32m     16\u001b[0m     pispec\u001b[38;5;241m.\u001b[39mset_actinic(intensity)\n\u001b[0;32m---> 17\u001b[0m     \u001b[43mpulse_series\u001b[49m\u001b[43m(\u001b[49m\u001b[43mnum_pulses\u001b[49m\u001b[43m,\u001b[49m\u001b[43m \u001b[49m\u001b[43mpulse_ms\u001b[49m\u001b[43m)\u001b[49m\n\u001b[1;32m     18\u001b[0m     \u001b[38;5;28mprint\u001b[39m(intensity)\n\u001b[1;32m     20\u001b[0m \u001b[38;5;28;01mif\u001b[39;00m begin_int \u001b[38;5;241m==\u001b[39m \u001b[38;5;241m0\u001b[39m:\n",
                        "Cell \u001b[0;32mIn [23], line 5\u001b[0m, in \u001b[0;36mpulse_series\u001b[0;34m(n, pulse_ms)\u001b[0m\n\u001b[1;32m      3\u001b[0m pispec\u001b[38;5;241m.\u001b[39mwait(pulse_ms \u001b[38;5;241m/\u001b[39m \u001b[38;5;241m1000\u001b[39m)\n\u001b[1;32m      4\u001b[0m pispec\u001b[38;5;241m.\u001b[39mpower(\u001b[38;5;124m\"\u001b[39m\u001b[38;5;124mon\u001b[39m\u001b[38;5;124m\"\u001b[39m)\n\u001b[0;32m----> 5\u001b[0m \u001b[43mpispec\u001b[49m\u001b[38;5;241;43m.\u001b[39;49m\u001b[43mwait\u001b[49m\u001b[43m(\u001b[49m\u001b[43mpulse_ms\u001b[49m\u001b[43m \u001b[49m\u001b[38;5;241;43m/\u001b[39;49m\u001b[43m \u001b[49m\u001b[38;5;241;43m1000\u001b[39;49m\u001b[43m)\u001b[49m\n\u001b[1;32m      6\u001b[0m pispec\u001b[38;5;241m.\u001b[39mpower(\u001b[38;5;124m\"\u001b[39m\u001b[38;5;124moff\u001b[39m\u001b[38;5;124m\"\u001b[39m)\n",
                        "File \u001b[0;32m~/projects/pi-spec-cli/src/pispec.py:35\u001b[0m, in \u001b[0;36mPiSpec.wait\u001b[0;34m(self, time_s)\u001b[0m\n\u001b[1;32m     34\u001b[0m \u001b[39mdef\u001b[39;00m \u001b[39mwait\u001b[39m(\u001b[39mself\u001b[39m, time_s: \u001b[39mint\u001b[39m):\n\u001b[0;32m---> 35\u001b[0m     time\u001b[39m.\u001b[39;49msleep(time_s)\n",
                        "\u001b[0;31mKeyboardInterrupt\u001b[0m: "
                    ]
                }
            ],
            "source": [
                "def pulse_series(n: int, pulse_ms: int):        \n",
                "    for x in range(0, n):\n",
                "        pispec.wait(pulse_ms / 1000)\n",
                "        pispec.power(\"on\")\n",
                "        pispec.wait(pulse_ms / 1000)\n",
                "        pispec.power(\"off\")\n",
                "\n",
                "begin_int = 0\n",
                "end_int = 255\n",
                "num_pulses = 1\n",
                "pulse_ms = 500\n",
                "\n",
                "while True:\n",
                "\n",
                "    for intensity in range(begin_int, end_int):\n",
                "        pispec.set_actinic(intensity)\n",
                "        pulse_series(num_pulses, pulse_ms)\n",
                "        print(intensity)\n",
                "\n",
                "    if begin_int == 0:\n",
                "        begin_int = 255\n",
                "        end_int = 0\n",
                "    else:\n",
                "        begin_int = 0\n",
                "        end_int = 255\n",
                "\n",
                "pispec.set_actinic(0)"
            ]
        },
        {
            "cell_type": "code",
            "execution_count": null,
            "metadata": {},
            "outputs": [],
            "source": [
                "pispec.power(\"off\")\n"
            ]
        },
        {
            "cell_type": "code",
            "execution_count": null,
            "metadata": {},
            "outputs": [],
            "source": [
                "\n"
            ]
        },
        {
            "cell_type": "code",
            "execution_count": null,
            "metadata": {},
            "outputs": [],
            "source": [
                "for x in (0, 255, 0):\n",
                "    print(pispec.set_actinic(x))\n",
                "    pispec.wait(1)\n"
            ]
        },
        {
            "cell_type": "code",
            "execution_count": null,
            "metadata": {},
            "outputs": [],
            "source": []
        },
        {
            "cell_type": "code",
            "execution_count": null,
            "metadata": {},
            "outputs": [],
            "source": [
                "\n",
                "\n",
                "\n",
                "\n"
            ]
        },
        {
            "cell_type": "code",
            "execution_count": null,
            "metadata": {},
            "outputs": [],
            "source": []
        },
        {
            "cell_type": "code",
            "execution_count": null,
            "metadata": {},
            "outputs": [],
            "source": [
                "\n",
                "\n"
            ]
        },
        {
            "cell_type": "code",
            "execution_count": null,
            "metadata": {},
            "outputs": [],
            "source": [
                "# # pispec.reconnect()\n",
                "# power(\"off\")\n",
                "resp = pispec.power(\"on\")\n",
                "print(resp)\n",
                "\n",
                "resp = pispec.power(\"off\")\n",
                "print(resp)"
            ]
        },
        {
            "cell_type": "code",
            "execution_count": null,
            "metadata": {},
            "outputs": [],
            "source": [
                "for i in range(0, 255):\n",
                "    print(pispec.set_actinic(i))\n",
                "    pispec.wait(0.25)\n"
            ]
        },
        {
            "cell_type": "code",
            "execution_count": null,
            "metadata": {},
            "outputs": [],
            "source": [
                "pispec.set_actinic(0)"
            ]
        },
        {
            "cell_type": "code",
            "execution_count": null,
            "metadata": {},
            "outputs": [],
            "source": [
                "\n"
            ]
        },
        {
            "cell_type": "code",
            "execution_count": null,
            "metadata": {},
            "outputs": [],
            "source": [
                "\n",
                "\n",
                "def act_pulse(pulse_length:float, intensity: int):\n",
                "    resp1 = pispec.tracecontroller.set_parameters(intensity)\n",
                "    pispec.wait(pulse_length)\n",
                "    resp2 = pispec.tracecontroller.set_parameters(intensity)\n",
                "    # print(f\"{resp1}, {resp2}\")\n",
                "\n",
                "# for i in range(0, 255):\n",
                "#     act_pulse()\n",
                "\n",
                "int_list = [x*10 for x in range(0, 25)] \n",
                "# int_list = [255, 100, 50, 100, 255]\n",
                "\n",
                "for i in range(0, 255):\n",
                "    int_list.reverse()\n",
                "\n",
                "    for intensity in int_list:\n",
                "        # print(intensity)\n",
                "        pispec.set_actinic(intensity)\n",
                "        pispec.wait(1)\n",
                "        \n",
                "    \n",
                "\n",
                "        \n"
            ]
        },
        {
            "cell_type": "code",
            "execution_count": null,
            "metadata": {},
            "outputs": [],
            "source": []
        },
        {
            "cell_type": "code",
            "execution_count": null,
            "metadata": {},
            "outputs": [],
            "source": []
        },
        {
            "cell_type": "markdown",
            "metadata": {},
            "source": []
        },
        {
            "cell_type": "code",
            "execution_count": 6,
            "metadata": {},
            "outputs": [
                {
                    "data": {
                        "text/plain": [
                            "'j1;'"
                        ]
                    },
                    "execution_count": 6,
                    "metadata": {},
                    "output_type": "execute_result"
                }
            ],
            "source": []
        },
        {
            "cell_type": "code",
            "execution_count": 55,
            "metadata": {},
            "outputs": [
                {
                    "name": "stdout",
                    "output_type": "stream",
                    "text": [
                        "r0;v1;n2000;z1;i500;p60;e0;w0;x0;y140;\n",
                        "counter=2001,numAq=5,power_state=0, sat_pulse_begin=500, sat_pulse_end=600, pulse_length=60, pulse_interval=500, meas_led_vis=2, meas_led_ir=0, num_points=2000, pulse_mode=1, act_int_phase=[0|0|140], trigger_delay=0;\n",
                        "\n",
                        "LED: 1\n",
                        "Experiment 'testBadger' concluded, trace data is ready for processing.\n"
                    ]
                },
                {
                    "data": {
                        "image/png": "[encoded data removed]",
                        "text/plain": [
                            "<Figure size 640x480 with 1 Axes>"
                        ]
                    },
                    "metadata": {},
                    "output_type": "display_data"
                }
            ],
            "source": [
                "pispec = PiSpec()\n",
                "\n",
                "#experiment variables\n",
                "exp_name = \"testBadger\"\n",
                "trace_params = [TraceParams(num_points=2000,\n",
                "    pulse_interval = 500,\n",
                "    meas_led_ir = 0,\n",
                "    meas_led_vis = 1,\n",
                "    pulse_length = 60,\n",
                "    sat_pulse_begin = 800,\n",
                "    sat_pulse_end = 1200,\n",
                "    pulse_mode = 1,\n",
                "    trigger_delay = 0,\n",
                "    trace_note = \"debug\",\n",
                "    act_intensity = [0, 0, 140]\n",
                ") for x in range(0, 1)]\n",
                "\n",
                "# begin experiment\n",
                "pispec.init_experiment(exp_name=exp_name)\n",
                "pispec.tracecontroller.set_parameters(\"j1\")\n",
                "\n",
                "for param in trace_params:\n",
                "\n",
                "    # setup the trace paramaters\n",
                "    print(param.param_string)\n",
                "    print(pispec.setup_trace(param))\n",
                "\n",
                "    # see if the trace parameters are in place\n",
                "    # print(f\"The current trace parameters are: {pispec.tracecontroller.get_parameters()}\")\n",
                "\n",
                "    # run trace\n",
                "    print(f\"LED: {param.meas_led_vis}\")\n",
                "    status = pispec.run_trace(timeout_s=1000)\n",
                "    # print(f\"pispec.run_trace completed with status: {status}\")\n",
                "\n",
                "    # wait between traces\n",
                "    pispec.wait(2)\n",
                "\n",
                "print(f\"Experiment '{exp_name}' concluded, trace data is ready for processing.\")\n",
                "\n",
                "# dfs = pispec.get_data()\n",
                "dfs = pispec.get_data()\n",
                "df = dfs[0]\n",
                "\n",
                "# row means of all the data points\n",
                "df[\"val\"] = df[['aq_0', 'aq_1', 'aq_2', 'aq_3', 'aq_4']].mean(numeric_only = True, axis=1)\n",
                "\n",
                "df[\"V\"] = df[\"val\"] / 6535\n",
                "\n",
                "plt.plot(df['time_us'], df['V'])\n",
                "plt.ylim(0, 10)\n",
                "plt.show()\n"
            ]
        },
        {
            "cell_type": "code",
            "execution_count": 36,
            "metadata": {},
            "outputs": [
                {
                    "name": "stdout",
                    "output_type": "stream",
                    "text": [
                        "   trace_num  rep   trace_begun     trace_end  \\\n",
                        "0          0    0  1.664238e+09  1.664238e+09   \n",
                        "1          0    0  1.664238e+09  1.664238e+09   \n",
                        "2          0    0  1.664238e+09  1.664238e+09   \n",
                        "3          0    0  1.664238e+09  1.664238e+09   \n",
                        "4          0    0  1.664238e+09  1.664238e+09   \n",
                        "\n",
                        "                             param_string note  pt_num  time_us    aq_0  \\\n",
                        "0  r0;v1;n2000;z1;i500;p60;e0;w0;x190;y0;          0.0      5.0  1024.0   \n",
                        "1  r0;v1;n2000;z1;i500;p60;e0;w0;x190;y0;          1.0    506.0  1024.0   \n",
                        "2  r0;v1;n2000;z1;i500;p60;e0;w0;x190;y0;          2.0   1007.0   768.0   \n",
                        "3  r0;v1;n2000;z1;i500;p60;e0;w0;x190;y0;          3.0   1508.0   768.0   \n",
                        "4  r0;v1;n2000;z1;i500;p60;e0;w0;x190;y0;          4.0   2009.0   768.0   \n",
                        "\n",
                        "     aq_1    aq_2    aq_3    aq_4  \n",
                        "0  1280.0  1536.0  1536.0  1536.0  \n",
                        "1  1280.0  1536.0  1536.0  1792.0  \n",
                        "2  1280.0  1280.0  1792.0  1792.0  \n",
                        "3  1280.0  1792.0  1792.0  1792.0  \n",
                        "4  1536.0  1792.0  1792.0  1792.0  \n"
                    ]
                }
            ],
            "source": [
                "# dfs = pispec.get_data()\n",
                "dfs = pispec.get_data()\n",
                "df = dfs[0]\n",
                "\n",
                "# row means of all the data points\n",
                "df[\"val\"] = df[['aq_0', 'aq_1', 'aq_2', 'aq_3', 'aq_4']].mean(numeric_only = True, axis=1)\n",
                "\n",
                "df[\"V\"] = df[\"val\"] / 6535\n",
                "\n",
                "plt.plot(df['time_us'], df['V'])\n",
                "plt.ylim(0, 5)\n",
                "plt.show()"
            ]
        },
        {
            "cell_type": "code",
            "execution_count": 9,
            "metadata": {},
            "outputs": [
                {
                    "name": "stdout",
                    "output_type": "stream",
                    "text": [
                        "   trace_num  rep   trace_begun     trace_end  \\\n",
                        "0          0    0  1.664236e+09  1.664236e+09   \n",
                        "1          0    0  1.664236e+09  1.664236e+09   \n",
                        "2          0    0  1.664236e+09  1.664236e+09   \n",
                        "3          0    0  1.664236e+09  1.664236e+09   \n",
                        "4          0    0  1.664236e+09  1.664236e+09   \n",
                        "\n",
                        "                             param_string note  pt_num  time_us  aq_0  aq_1  \\\n",
                        "0  r0;v1;n1000;z1;i1000;p40;e0;w0;x90;y0;          0.0      4.0   0.0   0.0   \n",
                        "1  r0;v1;n1000;z1;i1000;p40;e0;w0;x90;y0;          1.0   1005.0   0.0   0.0   \n",
                        "2  r0;v1;n1000;z1;i1000;p40;e0;w0;x90;y0;          2.0   2006.0   0.0   0.0   \n",
                        "3  r0;v1;n1000;z1;i1000;p40;e0;w0;x90;y0;          3.0   3007.0   0.0   0.0   \n",
                        "4  r0;v1;n1000;z1;i1000;p40;e0;w0;x90;y0;          4.0   4008.0   0.0   0.0   \n",
                        "\n",
                        "   aq_2  aq_3  aq_4  \n",
                        "0   0.0   0.0   0.0  \n",
                        "1   0.0   0.0   0.0  \n",
                        "2   0.0   0.0   0.0  \n",
                        "3   0.0   0.0   0.0  \n",
                        "4   0.0   0.0   0.0  \n"
                    ]
                }
            ],
            "source": [
                "\n"
            ]
        },
        {
            "cell_type": "code",
            "execution_count": 39,
            "metadata": {},
            "outputs": [
                {
                    "data": {
                        "image/png": "[encoded data removed]",
                        "text/plain": [
                            "<Figure size 640x480 with 1 Axes>"
                        ]
                    },
                    "metadata": {},
                    "output_type": "display_data"
                }
            ],
            "source": [
                "# row means of all the data points\n",
                "df[\"val\"] = df[['aq_0', 'aq_1', 'aq_2', 'aq_3', 'aq_4']].mean(numeric_only = True, axis=1)\n",
                "\n",
                "df[\"V\"] = df[\"val\"] / 6535\n",
                "\n",
                "plt.plot(df['time_us'], df['V'])\n",
                "plt.ylim(0, 5)\n",
                "plt.show()"
            ]
        },
        {
            "cell_type": "code",
            "execution_count": null,
            "metadata": {},
            "outputs": [],
            "source": [
                "plt.plot(df['time_us'], df['V'])\n",
                "plt.ylim(0, 10)\n",
                "plt.show()"
            ]
        },
        {
            "cell_type": "code",
            "execution_count": null,
            "metadata": {},
            "outputs": [],
            "source": [
                "(x='time_us', y='val')\n",
                "plt.show()\n",
                "\n",
                "# plt.plot(df['time_us'], df['aq_0'])\n",
                "# plt.show()"
            ]
        },
        {
            "cell_type": "code",
            "execution_count": null,
            "metadata": {},
            "outputs": [],
            "source": [
                "\n",
                "# pispec.tracecontroller.modify_actinic(intensity=500)\n",
                "# time.sleep(5)\n"
            ]
        },
        {
            "cell_type": "code",
            "execution_count": null,
            "metadata": {},
            "outputs": [],
            "source": []
        },
        {
            "cell_type": "code",
            "execution_count": null,
            "metadata": {},
            "outputs": [],
            "source": []
        }
    ],
    "metadata": {
        "kernelspec": {
            "display_name": "Python 3.9.2 ('pi-venv': venv)",
            "language": "python",
            "name": "python3"
        },
        "language_info": {
            "codemirror_mode": {
                "name": "ipython",
                "version": 3
            },
            "file_extension": ".py",
            "mimetype": "text/x-python",
            "name": "python",
            "nbconvert_exporter": "python",
            "pygments_lexer": "ipython3",
            "version": "3.9.2"
        },
        "vscode": {
            "interpreter": {
                "hash": "c91c631945b4ab69acf6d84149ec63c39dc65b85dab3fc6d5eebd73afec1b999"
            }
        }
    },
    "nbformat": 4,
    "nbformat_minor": 2
}
